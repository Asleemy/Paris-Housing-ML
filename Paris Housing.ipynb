{
 "cells": [
  {
   "cell_type": "code",
   "execution_count": 78,
   "id": "609957ca-7c0c-4114-b684-e2f02440d309",
   "metadata": {},
   "outputs": [
    {
     "data": {
      "text/html": [
       "<div><div id=16ca538b-c6a5-48b9-ba72-1b4f7a9e849d style=\"display:none; background-color:#9D6CFF; color:white; width:200px; height:30px; padding-left:5px; border-radius:4px; flex-direction:row; justify-content:space-around; align-items:center;\" onmouseover=\"this.style.backgroundColor='#BA9BF8'\" onmouseout=\"this.style.backgroundColor='#9D6CFF'\" onclick=\"window.commands?.execute('create-mitosheet-from-dataframe-output');\">See Full Dataframe in Mito</div> <script> if (window.commands.hasCommand('create-mitosheet-from-dataframe-output')) document.getElementById('16ca538b-c6a5-48b9-ba72-1b4f7a9e849d').style.display = 'flex' </script> <table border=\"1\" class=\"dataframe\">\n",
       "  <thead>\n",
       "    <tr style=\"text-align: right;\">\n",
       "      <th></th>\n",
       "      <th>squareMeters</th>\n",
       "      <th>numberOfRooms</th>\n",
       "      <th>hasYard</th>\n",
       "      <th>hasPool</th>\n",
       "      <th>floors</th>\n",
       "      <th>cityCode</th>\n",
       "      <th>cityPartRange</th>\n",
       "      <th>numPrevOwners</th>\n",
       "      <th>made</th>\n",
       "      <th>isNewBuilt</th>\n",
       "      <th>hasStormProtector</th>\n",
       "      <th>basement</th>\n",
       "      <th>attic</th>\n",
       "      <th>garage</th>\n",
       "      <th>hasStorageRoom</th>\n",
       "      <th>hasGuestRoom</th>\n",
       "      <th>price</th>\n",
       "    </tr>\n",
       "  </thead>\n",
       "  <tbody>\n",
       "    <tr>\n",
       "      <th>0</th>\n",
       "      <td>75523</td>\n",
       "      <td>3</td>\n",
       "      <td>0</td>\n",
       "      <td>1</td>\n",
       "      <td>63</td>\n",
       "      <td>9373</td>\n",
       "      <td>3</td>\n",
       "      <td>8</td>\n",
       "      <td>2005</td>\n",
       "      <td>0</td>\n",
       "      <td>1</td>\n",
       "      <td>4313</td>\n",
       "      <td>9005</td>\n",
       "      <td>956</td>\n",
       "      <td>0</td>\n",
       "      <td>7</td>\n",
       "      <td>7559081.5</td>\n",
       "    </tr>\n",
       "    <tr>\n",
       "      <th>1</th>\n",
       "      <td>80771</td>\n",
       "      <td>39</td>\n",
       "      <td>1</td>\n",
       "      <td>1</td>\n",
       "      <td>98</td>\n",
       "      <td>39381</td>\n",
       "      <td>8</td>\n",
       "      <td>6</td>\n",
       "      <td>2015</td>\n",
       "      <td>1</td>\n",
       "      <td>0</td>\n",
       "      <td>3653</td>\n",
       "      <td>2436</td>\n",
       "      <td>128</td>\n",
       "      <td>1</td>\n",
       "      <td>2</td>\n",
       "      <td>8085989.5</td>\n",
       "    </tr>\n",
       "    <tr>\n",
       "      <th>2</th>\n",
       "      <td>55712</td>\n",
       "      <td>58</td>\n",
       "      <td>0</td>\n",
       "      <td>1</td>\n",
       "      <td>19</td>\n",
       "      <td>34457</td>\n",
       "      <td>6</td>\n",
       "      <td>8</td>\n",
       "      <td>2021</td>\n",
       "      <td>0</td>\n",
       "      <td>0</td>\n",
       "      <td>2937</td>\n",
       "      <td>8852</td>\n",
       "      <td>135</td>\n",
       "      <td>1</td>\n",
       "      <td>9</td>\n",
       "      <td>5574642.1</td>\n",
       "    </tr>\n",
       "    <tr>\n",
       "      <th>3</th>\n",
       "      <td>32316</td>\n",
       "      <td>47</td>\n",
       "      <td>0</td>\n",
       "      <td>0</td>\n",
       "      <td>6</td>\n",
       "      <td>27939</td>\n",
       "      <td>10</td>\n",
       "      <td>4</td>\n",
       "      <td>2012</td>\n",
       "      <td>0</td>\n",
       "      <td>1</td>\n",
       "      <td>659</td>\n",
       "      <td>7141</td>\n",
       "      <td>359</td>\n",
       "      <td>0</td>\n",
       "      <td>3</td>\n",
       "      <td>3232561.2</td>\n",
       "    </tr>\n",
       "    <tr>\n",
       "      <th>4</th>\n",
       "      <td>70429</td>\n",
       "      <td>19</td>\n",
       "      <td>1</td>\n",
       "      <td>1</td>\n",
       "      <td>90</td>\n",
       "      <td>38045</td>\n",
       "      <td>3</td>\n",
       "      <td>7</td>\n",
       "      <td>1990</td>\n",
       "      <td>1</td>\n",
       "      <td>0</td>\n",
       "      <td>8435</td>\n",
       "      <td>2429</td>\n",
       "      <td>292</td>\n",
       "      <td>1</td>\n",
       "      <td>4</td>\n",
       "      <td>7055052.0</td>\n",
       "    </tr>\n",
       "    <tr>\n",
       "      <th>...</th>\n",
       "      <td>...</td>\n",
       "      <td>...</td>\n",
       "      <td>...</td>\n",
       "      <td>...</td>\n",
       "      <td>...</td>\n",
       "      <td>...</td>\n",
       "      <td>...</td>\n",
       "      <td>...</td>\n",
       "      <td>...</td>\n",
       "      <td>...</td>\n",
       "      <td>...</td>\n",
       "      <td>...</td>\n",
       "      <td>...</td>\n",
       "      <td>...</td>\n",
       "      <td>...</td>\n",
       "      <td>...</td>\n",
       "      <td>...</td>\n",
       "    </tr>\n",
       "    <tr>\n",
       "      <th>9995</th>\n",
       "      <td>1726</td>\n",
       "      <td>89</td>\n",
       "      <td>0</td>\n",
       "      <td>1</td>\n",
       "      <td>5</td>\n",
       "      <td>73133</td>\n",
       "      <td>7</td>\n",
       "      <td>6</td>\n",
       "      <td>2009</td>\n",
       "      <td>0</td>\n",
       "      <td>1</td>\n",
       "      <td>9311</td>\n",
       "      <td>1698</td>\n",
       "      <td>218</td>\n",
       "      <td>0</td>\n",
       "      <td>4</td>\n",
       "      <td>176425.9</td>\n",
       "    </tr>\n",
       "    <tr>\n",
       "      <th>9996</th>\n",
       "      <td>44403</td>\n",
       "      <td>29</td>\n",
       "      <td>1</td>\n",
       "      <td>1</td>\n",
       "      <td>12</td>\n",
       "      <td>34606</td>\n",
       "      <td>9</td>\n",
       "      <td>4</td>\n",
       "      <td>1990</td>\n",
       "      <td>0</td>\n",
       "      <td>1</td>\n",
       "      <td>9061</td>\n",
       "      <td>1742</td>\n",
       "      <td>230</td>\n",
       "      <td>0</td>\n",
       "      <td>0</td>\n",
       "      <td>4448474.0</td>\n",
       "    </tr>\n",
       "    <tr>\n",
       "      <th>9997</th>\n",
       "      <td>83841</td>\n",
       "      <td>3</td>\n",
       "      <td>0</td>\n",
       "      <td>0</td>\n",
       "      <td>69</td>\n",
       "      <td>80933</td>\n",
       "      <td>10</td>\n",
       "      <td>10</td>\n",
       "      <td>2005</td>\n",
       "      <td>1</td>\n",
       "      <td>1</td>\n",
       "      <td>8304</td>\n",
       "      <td>7730</td>\n",
       "      <td>345</td>\n",
       "      <td>1</td>\n",
       "      <td>9</td>\n",
       "      <td>8390030.5</td>\n",
       "    </tr>\n",
       "    <tr>\n",
       "      <th>9998</th>\n",
       "      <td>59036</td>\n",
       "      <td>70</td>\n",
       "      <td>0</td>\n",
       "      <td>0</td>\n",
       "      <td>96</td>\n",
       "      <td>55856</td>\n",
       "      <td>1</td>\n",
       "      <td>3</td>\n",
       "      <td>2010</td>\n",
       "      <td>0</td>\n",
       "      <td>1</td>\n",
       "      <td>2590</td>\n",
       "      <td>6174</td>\n",
       "      <td>339</td>\n",
       "      <td>1</td>\n",
       "      <td>4</td>\n",
       "      <td>5905107.0</td>\n",
       "    </tr>\n",
       "    <tr>\n",
       "      <th>9999</th>\n",
       "      <td>1440</td>\n",
       "      <td>84</td>\n",
       "      <td>0</td>\n",
       "      <td>0</td>\n",
       "      <td>49</td>\n",
       "      <td>18412</td>\n",
       "      <td>6</td>\n",
       "      <td>10</td>\n",
       "      <td>1994</td>\n",
       "      <td>1</td>\n",
       "      <td>0</td>\n",
       "      <td>8485</td>\n",
       "      <td>2024</td>\n",
       "      <td>278</td>\n",
       "      <td>1</td>\n",
       "      <td>6</td>\n",
       "      <td>146708.4</td>\n",
       "    </tr>\n",
       "  </tbody>\n",
       "</table></div>"
      ],
      "text/plain": [
       "      squareMeters  numberOfRooms  hasYard  hasPool  floors  cityCode  \\\n",
       "0            75523              3        0        1      63      9373   \n",
       "1            80771             39        1        1      98     39381   \n",
       "2            55712             58        0        1      19     34457   \n",
       "3            32316             47        0        0       6     27939   \n",
       "4            70429             19        1        1      90     38045   \n",
       "...            ...            ...      ...      ...     ...       ...   \n",
       "9995          1726             89        0        1       5     73133   \n",
       "9996         44403             29        1        1      12     34606   \n",
       "9997         83841              3        0        0      69     80933   \n",
       "9998         59036             70        0        0      96     55856   \n",
       "9999          1440             84        0        0      49     18412   \n",
       "\n",
       "      cityPartRange  numPrevOwners  made  isNewBuilt  hasStormProtector  \\\n",
       "0                 3              8  2005           0                  1   \n",
       "1                 8              6  2015           1                  0   \n",
       "2                 6              8  2021           0                  0   \n",
       "3                10              4  2012           0                  1   \n",
       "4                 3              7  1990           1                  0   \n",
       "...             ...            ...   ...         ...                ...   \n",
       "9995              7              6  2009           0                  1   \n",
       "9996              9              4  1990           0                  1   \n",
       "9997             10             10  2005           1                  1   \n",
       "9998              1              3  2010           0                  1   \n",
       "9999              6             10  1994           1                  0   \n",
       "\n",
       "      basement  attic  garage  hasStorageRoom  hasGuestRoom      price  \n",
       "0         4313   9005     956               0             7  7559081.5  \n",
       "1         3653   2436     128               1             2  8085989.5  \n",
       "2         2937   8852     135               1             9  5574642.1  \n",
       "3          659   7141     359               0             3  3232561.2  \n",
       "4         8435   2429     292               1             4  7055052.0  \n",
       "...        ...    ...     ...             ...           ...        ...  \n",
       "9995      9311   1698     218               0             4   176425.9  \n",
       "9996      9061   1742     230               0             0  4448474.0  \n",
       "9997      8304   7730     345               1             9  8390030.5  \n",
       "9998      2590   6174     339               1             4  5905107.0  \n",
       "9999      8485   2024     278               1             6   146708.4  \n",
       "\n",
       "[10000 rows x 17 columns]"
      ]
     },
     "execution_count": 78,
     "metadata": {},
     "output_type": "execute_result"
    }
   ],
   "source": [
    "df = pd.read_csv(\"ParisHousing.csv\")\n",
    "df"
   ]
  },
  {
   "cell_type": "code",
   "execution_count": 79,
   "id": "329903c3-965d-4c57-9735-fd8006118439",
   "metadata": {},
   "outputs": [],
   "source": [
    "import pandas as pd"
   ]
  },
  {
   "cell_type": "code",
   "execution_count": 80,
   "id": "d3930812-ce86-4e51-8914-8a393821ce17",
   "metadata": {},
   "outputs": [
    {
     "data": {
      "application/vnd.jupyter.widget-view+json": {
       "model_id": "913e6c4150eb4210bb416f410e8ae55e",
       "version_major": 2,
       "version_minor": 0
      },
      "text/plain": [
       "MitoWidget(analysis_data_json='{\"analysisName\": \"UUID-f26c7e04-d032-4f1f-9da6-7962b586b74a\", \"code\": {\"imports…"
      ]
     },
     "metadata": {},
     "output_type": "display_data"
    }
   ],
   "source": [
    "import mitosheet\n",
    "mitosheet.sheet(df, view_df=True)"
   ]
  },
  {
   "cell_type": "code",
   "execution_count": null,
   "id": "1ba3618b-daa9-4e44-91cb-3d9a765b7415",
   "metadata": {},
   "outputs": [],
   "source": []
  },
  {
   "cell_type": "code",
   "execution_count": 81,
   "id": "169f34eb-a0c2-4753-ac8f-8eb1a8c0409f",
   "metadata": {},
   "outputs": [
    {
     "data": {
      "text/html": [
       "<div><div id=49cf38eb-404e-4b14-8466-76e03f06e2d5 style=\"display:none; background-color:#9D6CFF; color:white; width:200px; height:30px; padding-left:5px; border-radius:4px; flex-direction:row; justify-content:space-around; align-items:center;\" onmouseover=\"this.style.backgroundColor='#BA9BF8'\" onmouseout=\"this.style.backgroundColor='#9D6CFF'\" onclick=\"window.commands?.execute('create-mitosheet-from-dataframe-output');\">See Full Dataframe in Mito</div> <script> if (window.commands.hasCommand('create-mitosheet-from-dataframe-output')) document.getElementById('49cf38eb-404e-4b14-8466-76e03f06e2d5').style.display = 'flex' </script> <table border=\"1\" class=\"dataframe\">\n",
       "  <thead>\n",
       "    <tr style=\"text-align: right;\">\n",
       "      <th></th>\n",
       "      <th>squareMeters</th>\n",
       "      <th>numberOfRooms</th>\n",
       "      <th>hasYard</th>\n",
       "      <th>hasPool</th>\n",
       "      <th>floors</th>\n",
       "      <th>cityCode</th>\n",
       "      <th>cityPartRange</th>\n",
       "      <th>numPrevOwners</th>\n",
       "      <th>made</th>\n",
       "      <th>isNewBuilt</th>\n",
       "      <th>hasStormProtector</th>\n",
       "      <th>basement</th>\n",
       "      <th>attic</th>\n",
       "      <th>garage</th>\n",
       "      <th>hasStorageRoom</th>\n",
       "      <th>hasGuestRoom</th>\n",
       "      <th>price</th>\n",
       "    </tr>\n",
       "  </thead>\n",
       "  <tbody>\n",
       "    <tr>\n",
       "      <th>0</th>\n",
       "      <td>75523</td>\n",
       "      <td>3</td>\n",
       "      <td>0</td>\n",
       "      <td>1</td>\n",
       "      <td>63</td>\n",
       "      <td>9373</td>\n",
       "      <td>3</td>\n",
       "      <td>8</td>\n",
       "      <td>2005</td>\n",
       "      <td>0</td>\n",
       "      <td>1</td>\n",
       "      <td>4313</td>\n",
       "      <td>9005</td>\n",
       "      <td>956</td>\n",
       "      <td>0</td>\n",
       "      <td>7</td>\n",
       "      <td>7559081.5</td>\n",
       "    </tr>\n",
       "    <tr>\n",
       "      <th>1</th>\n",
       "      <td>80771</td>\n",
       "      <td>39</td>\n",
       "      <td>1</td>\n",
       "      <td>1</td>\n",
       "      <td>98</td>\n",
       "      <td>39381</td>\n",
       "      <td>8</td>\n",
       "      <td>6</td>\n",
       "      <td>2015</td>\n",
       "      <td>1</td>\n",
       "      <td>0</td>\n",
       "      <td>3653</td>\n",
       "      <td>2436</td>\n",
       "      <td>128</td>\n",
       "      <td>1</td>\n",
       "      <td>2</td>\n",
       "      <td>8085989.5</td>\n",
       "    </tr>\n",
       "    <tr>\n",
       "      <th>2</th>\n",
       "      <td>55712</td>\n",
       "      <td>58</td>\n",
       "      <td>0</td>\n",
       "      <td>1</td>\n",
       "      <td>19</td>\n",
       "      <td>34457</td>\n",
       "      <td>6</td>\n",
       "      <td>8</td>\n",
       "      <td>2021</td>\n",
       "      <td>0</td>\n",
       "      <td>0</td>\n",
       "      <td>2937</td>\n",
       "      <td>8852</td>\n",
       "      <td>135</td>\n",
       "      <td>1</td>\n",
       "      <td>9</td>\n",
       "      <td>5574642.1</td>\n",
       "    </tr>\n",
       "    <tr>\n",
       "      <th>3</th>\n",
       "      <td>32316</td>\n",
       "      <td>47</td>\n",
       "      <td>0</td>\n",
       "      <td>0</td>\n",
       "      <td>6</td>\n",
       "      <td>27939</td>\n",
       "      <td>10</td>\n",
       "      <td>4</td>\n",
       "      <td>2012</td>\n",
       "      <td>0</td>\n",
       "      <td>1</td>\n",
       "      <td>659</td>\n",
       "      <td>7141</td>\n",
       "      <td>359</td>\n",
       "      <td>0</td>\n",
       "      <td>3</td>\n",
       "      <td>3232561.2</td>\n",
       "    </tr>\n",
       "    <tr>\n",
       "      <th>4</th>\n",
       "      <td>70429</td>\n",
       "      <td>19</td>\n",
       "      <td>1</td>\n",
       "      <td>1</td>\n",
       "      <td>90</td>\n",
       "      <td>38045</td>\n",
       "      <td>3</td>\n",
       "      <td>7</td>\n",
       "      <td>1990</td>\n",
       "      <td>1</td>\n",
       "      <td>0</td>\n",
       "      <td>8435</td>\n",
       "      <td>2429</td>\n",
       "      <td>292</td>\n",
       "      <td>1</td>\n",
       "      <td>4</td>\n",
       "      <td>7055052.0</td>\n",
       "    </tr>\n",
       "    <tr>\n",
       "      <th>...</th>\n",
       "      <td>...</td>\n",
       "      <td>...</td>\n",
       "      <td>...</td>\n",
       "      <td>...</td>\n",
       "      <td>...</td>\n",
       "      <td>...</td>\n",
       "      <td>...</td>\n",
       "      <td>...</td>\n",
       "      <td>...</td>\n",
       "      <td>...</td>\n",
       "      <td>...</td>\n",
       "      <td>...</td>\n",
       "      <td>...</td>\n",
       "      <td>...</td>\n",
       "      <td>...</td>\n",
       "      <td>...</td>\n",
       "      <td>...</td>\n",
       "    </tr>\n",
       "    <tr>\n",
       "      <th>9995</th>\n",
       "      <td>1726</td>\n",
       "      <td>89</td>\n",
       "      <td>0</td>\n",
       "      <td>1</td>\n",
       "      <td>5</td>\n",
       "      <td>73133</td>\n",
       "      <td>7</td>\n",
       "      <td>6</td>\n",
       "      <td>2009</td>\n",
       "      <td>0</td>\n",
       "      <td>1</td>\n",
       "      <td>9311</td>\n",
       "      <td>1698</td>\n",
       "      <td>218</td>\n",
       "      <td>0</td>\n",
       "      <td>4</td>\n",
       "      <td>176425.9</td>\n",
       "    </tr>\n",
       "    <tr>\n",
       "      <th>9996</th>\n",
       "      <td>44403</td>\n",
       "      <td>29</td>\n",
       "      <td>1</td>\n",
       "      <td>1</td>\n",
       "      <td>12</td>\n",
       "      <td>34606</td>\n",
       "      <td>9</td>\n",
       "      <td>4</td>\n",
       "      <td>1990</td>\n",
       "      <td>0</td>\n",
       "      <td>1</td>\n",
       "      <td>9061</td>\n",
       "      <td>1742</td>\n",
       "      <td>230</td>\n",
       "      <td>0</td>\n",
       "      <td>0</td>\n",
       "      <td>4448474.0</td>\n",
       "    </tr>\n",
       "    <tr>\n",
       "      <th>9997</th>\n",
       "      <td>83841</td>\n",
       "      <td>3</td>\n",
       "      <td>0</td>\n",
       "      <td>0</td>\n",
       "      <td>69</td>\n",
       "      <td>80933</td>\n",
       "      <td>10</td>\n",
       "      <td>10</td>\n",
       "      <td>2005</td>\n",
       "      <td>1</td>\n",
       "      <td>1</td>\n",
       "      <td>8304</td>\n",
       "      <td>7730</td>\n",
       "      <td>345</td>\n",
       "      <td>1</td>\n",
       "      <td>9</td>\n",
       "      <td>8390030.5</td>\n",
       "    </tr>\n",
       "    <tr>\n",
       "      <th>9998</th>\n",
       "      <td>59036</td>\n",
       "      <td>70</td>\n",
       "      <td>0</td>\n",
       "      <td>0</td>\n",
       "      <td>96</td>\n",
       "      <td>55856</td>\n",
       "      <td>1</td>\n",
       "      <td>3</td>\n",
       "      <td>2010</td>\n",
       "      <td>0</td>\n",
       "      <td>1</td>\n",
       "      <td>2590</td>\n",
       "      <td>6174</td>\n",
       "      <td>339</td>\n",
       "      <td>1</td>\n",
       "      <td>4</td>\n",
       "      <td>5905107.0</td>\n",
       "    </tr>\n",
       "    <tr>\n",
       "      <th>9999</th>\n",
       "      <td>1440</td>\n",
       "      <td>84</td>\n",
       "      <td>0</td>\n",
       "      <td>0</td>\n",
       "      <td>49</td>\n",
       "      <td>18412</td>\n",
       "      <td>6</td>\n",
       "      <td>10</td>\n",
       "      <td>1994</td>\n",
       "      <td>1</td>\n",
       "      <td>0</td>\n",
       "      <td>8485</td>\n",
       "      <td>2024</td>\n",
       "      <td>278</td>\n",
       "      <td>1</td>\n",
       "      <td>6</td>\n",
       "      <td>146708.4</td>\n",
       "    </tr>\n",
       "  </tbody>\n",
       "</table></div>"
      ],
      "text/plain": [
       "      squareMeters  numberOfRooms  hasYard  hasPool  floors  cityCode  \\\n",
       "0            75523              3        0        1      63      9373   \n",
       "1            80771             39        1        1      98     39381   \n",
       "2            55712             58        0        1      19     34457   \n",
       "3            32316             47        0        0       6     27939   \n",
       "4            70429             19        1        1      90     38045   \n",
       "...            ...            ...      ...      ...     ...       ...   \n",
       "9995          1726             89        0        1       5     73133   \n",
       "9996         44403             29        1        1      12     34606   \n",
       "9997         83841              3        0        0      69     80933   \n",
       "9998         59036             70        0        0      96     55856   \n",
       "9999          1440             84        0        0      49     18412   \n",
       "\n",
       "      cityPartRange  numPrevOwners  made  isNewBuilt  hasStormProtector  \\\n",
       "0                 3              8  2005           0                  1   \n",
       "1                 8              6  2015           1                  0   \n",
       "2                 6              8  2021           0                  0   \n",
       "3                10              4  2012           0                  1   \n",
       "4                 3              7  1990           1                  0   \n",
       "...             ...            ...   ...         ...                ...   \n",
       "9995              7              6  2009           0                  1   \n",
       "9996              9              4  1990           0                  1   \n",
       "9997             10             10  2005           1                  1   \n",
       "9998              1              3  2010           0                  1   \n",
       "9999              6             10  1994           1                  0   \n",
       "\n",
       "      basement  attic  garage  hasStorageRoom  hasGuestRoom      price  \n",
       "0         4313   9005     956               0             7  7559081.5  \n",
       "1         3653   2436     128               1             2  8085989.5  \n",
       "2         2937   8852     135               1             9  5574642.1  \n",
       "3          659   7141     359               0             3  3232561.2  \n",
       "4         8435   2429     292               1             4  7055052.0  \n",
       "...        ...    ...     ...             ...           ...        ...  \n",
       "9995      9311   1698     218               0             4   176425.9  \n",
       "9996      9061   1742     230               0             0  4448474.0  \n",
       "9997      8304   7730     345               1             9  8390030.5  \n",
       "9998      2590   6174     339               1             4  5905107.0  \n",
       "9999      8485   2024     278               1             6   146708.4  \n",
       "\n",
       "[10000 rows x 17 columns]"
      ]
     },
     "execution_count": 81,
     "metadata": {},
     "output_type": "execute_result"
    }
   ],
   "source": [
    "df"
   ]
  },
  {
   "cell_type": "code",
   "execution_count": 82,
   "id": "b440917b-a886-496e-90cd-b657c2ec0112",
   "metadata": {},
   "outputs": [
    {
     "data": {
      "text/html": [
       "<div><div id=c9b82e7e-13e0-4ae1-9315-53f8bd38bad4 style=\"display:none; background-color:#9D6CFF; color:white; width:200px; height:30px; padding-left:5px; border-radius:4px; flex-direction:row; justify-content:space-around; align-items:center;\" onmouseover=\"this.style.backgroundColor='#BA9BF8'\" onmouseout=\"this.style.backgroundColor='#9D6CFF'\" onclick=\"window.commands?.execute('create-mitosheet-from-dataframe-output');\">See Full Dataframe in Mito</div> <script> if (window.commands.hasCommand('create-mitosheet-from-dataframe-output')) document.getElementById('c9b82e7e-13e0-4ae1-9315-53f8bd38bad4').style.display = 'flex' </script> <table border=\"1\" class=\"dataframe\">\n",
       "  <thead>\n",
       "    <tr style=\"text-align: right;\">\n",
       "      <th></th>\n",
       "      <th>squareMeters</th>\n",
       "      <th>numberOfRooms</th>\n",
       "      <th>hasYard</th>\n",
       "      <th>hasPool</th>\n",
       "      <th>floors</th>\n",
       "      <th>cityCode</th>\n",
       "      <th>cityPartRange</th>\n",
       "      <th>numPrevOwners</th>\n",
       "      <th>made</th>\n",
       "      <th>isNewBuilt</th>\n",
       "      <th>hasStormProtector</th>\n",
       "      <th>basement</th>\n",
       "      <th>attic</th>\n",
       "      <th>garage</th>\n",
       "      <th>hasStorageRoom</th>\n",
       "      <th>hasGuestRoom</th>\n",
       "      <th>price</th>\n",
       "    </tr>\n",
       "  </thead>\n",
       "  <tbody>\n",
       "    <tr>\n",
       "      <th>count</th>\n",
       "      <td>10000.00000</td>\n",
       "      <td>10000.000000</td>\n",
       "      <td>10000.000000</td>\n",
       "      <td>10000.000000</td>\n",
       "      <td>10000.000000</td>\n",
       "      <td>10000.000000</td>\n",
       "      <td>10000.000000</td>\n",
       "      <td>10000.000000</td>\n",
       "      <td>10000.00000</td>\n",
       "      <td>10000.000000</td>\n",
       "      <td>10000.000000</td>\n",
       "      <td>10000.000000</td>\n",
       "      <td>10000.00000</td>\n",
       "      <td>10000.00000</td>\n",
       "      <td>10000.000000</td>\n",
       "      <td>10000.00000</td>\n",
       "      <td>1.000000e+04</td>\n",
       "    </tr>\n",
       "    <tr>\n",
       "      <th>mean</th>\n",
       "      <td>49870.13120</td>\n",
       "      <td>50.358400</td>\n",
       "      <td>0.508700</td>\n",
       "      <td>0.496800</td>\n",
       "      <td>50.276300</td>\n",
       "      <td>50225.486100</td>\n",
       "      <td>5.510100</td>\n",
       "      <td>5.521700</td>\n",
       "      <td>2005.48850</td>\n",
       "      <td>0.499100</td>\n",
       "      <td>0.499900</td>\n",
       "      <td>5033.103900</td>\n",
       "      <td>5028.01060</td>\n",
       "      <td>553.12120</td>\n",
       "      <td>0.503000</td>\n",
       "      <td>4.99460</td>\n",
       "      <td>4.993448e+06</td>\n",
       "    </tr>\n",
       "    <tr>\n",
       "      <th>std</th>\n",
       "      <td>28774.37535</td>\n",
       "      <td>28.816696</td>\n",
       "      <td>0.499949</td>\n",
       "      <td>0.500015</td>\n",
       "      <td>28.889171</td>\n",
       "      <td>29006.675799</td>\n",
       "      <td>2.872024</td>\n",
       "      <td>2.856667</td>\n",
       "      <td>9.30809</td>\n",
       "      <td>0.500024</td>\n",
       "      <td>0.500025</td>\n",
       "      <td>2876.729545</td>\n",
       "      <td>2894.33221</td>\n",
       "      <td>262.05017</td>\n",
       "      <td>0.500016</td>\n",
       "      <td>3.17641</td>\n",
       "      <td>2.877424e+06</td>\n",
       "    </tr>\n",
       "    <tr>\n",
       "      <th>min</th>\n",
       "      <td>89.00000</td>\n",
       "      <td>1.000000</td>\n",
       "      <td>0.000000</td>\n",
       "      <td>0.000000</td>\n",
       "      <td>1.000000</td>\n",
       "      <td>3.000000</td>\n",
       "      <td>1.000000</td>\n",
       "      <td>1.000000</td>\n",
       "      <td>1990.00000</td>\n",
       "      <td>0.000000</td>\n",
       "      <td>0.000000</td>\n",
       "      <td>0.000000</td>\n",
       "      <td>1.00000</td>\n",
       "      <td>100.00000</td>\n",
       "      <td>0.000000</td>\n",
       "      <td>0.00000</td>\n",
       "      <td>1.031350e+04</td>\n",
       "    </tr>\n",
       "    <tr>\n",
       "      <th>25%</th>\n",
       "      <td>25098.50000</td>\n",
       "      <td>25.000000</td>\n",
       "      <td>0.000000</td>\n",
       "      <td>0.000000</td>\n",
       "      <td>25.000000</td>\n",
       "      <td>24693.750000</td>\n",
       "      <td>3.000000</td>\n",
       "      <td>3.000000</td>\n",
       "      <td>1997.00000</td>\n",
       "      <td>0.000000</td>\n",
       "      <td>0.000000</td>\n",
       "      <td>2559.750000</td>\n",
       "      <td>2512.00000</td>\n",
       "      <td>327.75000</td>\n",
       "      <td>0.000000</td>\n",
       "      <td>2.00000</td>\n",
       "      <td>2.516402e+06</td>\n",
       "    </tr>\n",
       "    <tr>\n",
       "      <th>50%</th>\n",
       "      <td>50105.50000</td>\n",
       "      <td>50.000000</td>\n",
       "      <td>1.000000</td>\n",
       "      <td>0.000000</td>\n",
       "      <td>50.000000</td>\n",
       "      <td>50693.000000</td>\n",
       "      <td>5.000000</td>\n",
       "      <td>5.000000</td>\n",
       "      <td>2005.50000</td>\n",
       "      <td>0.000000</td>\n",
       "      <td>0.000000</td>\n",
       "      <td>5092.500000</td>\n",
       "      <td>5045.00000</td>\n",
       "      <td>554.00000</td>\n",
       "      <td>1.000000</td>\n",
       "      <td>5.00000</td>\n",
       "      <td>5.016180e+06</td>\n",
       "    </tr>\n",
       "    <tr>\n",
       "      <th>75%</th>\n",
       "      <td>74609.75000</td>\n",
       "      <td>75.000000</td>\n",
       "      <td>1.000000</td>\n",
       "      <td>1.000000</td>\n",
       "      <td>76.000000</td>\n",
       "      <td>75683.250000</td>\n",
       "      <td>8.000000</td>\n",
       "      <td>8.000000</td>\n",
       "      <td>2014.00000</td>\n",
       "      <td>1.000000</td>\n",
       "      <td>1.000000</td>\n",
       "      <td>7511.250000</td>\n",
       "      <td>7540.50000</td>\n",
       "      <td>777.25000</td>\n",
       "      <td>1.000000</td>\n",
       "      <td>8.00000</td>\n",
       "      <td>7.469092e+06</td>\n",
       "    </tr>\n",
       "    <tr>\n",
       "      <th>max</th>\n",
       "      <td>99999.00000</td>\n",
       "      <td>100.000000</td>\n",
       "      <td>1.000000</td>\n",
       "      <td>1.000000</td>\n",
       "      <td>100.000000</td>\n",
       "      <td>99953.000000</td>\n",
       "      <td>10.000000</td>\n",
       "      <td>10.000000</td>\n",
       "      <td>2021.00000</td>\n",
       "      <td>1.000000</td>\n",
       "      <td>1.000000</td>\n",
       "      <td>10000.000000</td>\n",
       "      <td>10000.00000</td>\n",
       "      <td>1000.00000</td>\n",
       "      <td>1.000000</td>\n",
       "      <td>10.00000</td>\n",
       "      <td>1.000677e+07</td>\n",
       "    </tr>\n",
       "  </tbody>\n",
       "</table></div>"
      ],
      "text/plain": [
       "       squareMeters  numberOfRooms       hasYard       hasPool        floors  \\\n",
       "count   10000.00000   10000.000000  10000.000000  10000.000000  10000.000000   \n",
       "mean    49870.13120      50.358400      0.508700      0.496800     50.276300   \n",
       "std     28774.37535      28.816696      0.499949      0.500015     28.889171   \n",
       "min        89.00000       1.000000      0.000000      0.000000      1.000000   \n",
       "25%     25098.50000      25.000000      0.000000      0.000000     25.000000   \n",
       "50%     50105.50000      50.000000      1.000000      0.000000     50.000000   \n",
       "75%     74609.75000      75.000000      1.000000      1.000000     76.000000   \n",
       "max     99999.00000     100.000000      1.000000      1.000000    100.000000   \n",
       "\n",
       "           cityCode  cityPartRange  numPrevOwners         made    isNewBuilt  \\\n",
       "count  10000.000000   10000.000000   10000.000000  10000.00000  10000.000000   \n",
       "mean   50225.486100       5.510100       5.521700   2005.48850      0.499100   \n",
       "std    29006.675799       2.872024       2.856667      9.30809      0.500024   \n",
       "min        3.000000       1.000000       1.000000   1990.00000      0.000000   \n",
       "25%    24693.750000       3.000000       3.000000   1997.00000      0.000000   \n",
       "50%    50693.000000       5.000000       5.000000   2005.50000      0.000000   \n",
       "75%    75683.250000       8.000000       8.000000   2014.00000      1.000000   \n",
       "max    99953.000000      10.000000      10.000000   2021.00000      1.000000   \n",
       "\n",
       "       hasStormProtector      basement        attic       garage  \\\n",
       "count       10000.000000  10000.000000  10000.00000  10000.00000   \n",
       "mean            0.499900   5033.103900   5028.01060    553.12120   \n",
       "std             0.500025   2876.729545   2894.33221    262.05017   \n",
       "min             0.000000      0.000000      1.00000    100.00000   \n",
       "25%             0.000000   2559.750000   2512.00000    327.75000   \n",
       "50%             0.000000   5092.500000   5045.00000    554.00000   \n",
       "75%             1.000000   7511.250000   7540.50000    777.25000   \n",
       "max             1.000000  10000.000000  10000.00000   1000.00000   \n",
       "\n",
       "       hasStorageRoom  hasGuestRoom         price  \n",
       "count    10000.000000   10000.00000  1.000000e+04  \n",
       "mean         0.503000       4.99460  4.993448e+06  \n",
       "std          0.500016       3.17641  2.877424e+06  \n",
       "min          0.000000       0.00000  1.031350e+04  \n",
       "25%          0.000000       2.00000  2.516402e+06  \n",
       "50%          1.000000       5.00000  5.016180e+06  \n",
       "75%          1.000000       8.00000  7.469092e+06  \n",
       "max          1.000000      10.00000  1.000677e+07  "
      ]
     },
     "execution_count": 82,
     "metadata": {},
     "output_type": "execute_result"
    }
   ],
   "source": [
    "df.describe()"
   ]
  },
  {
   "cell_type": "code",
   "execution_count": 83,
   "id": "865dd8de-3754-47b7-9ae3-452dd0ab0cfd",
   "metadata": {},
   "outputs": [
    {
     "name": "stdout",
     "output_type": "stream",
     "text": [
      "<class 'pandas.core.frame.DataFrame'>\n",
      "RangeIndex: 10000 entries, 0 to 9999\n",
      "Data columns (total 17 columns):\n",
      " #   Column             Non-Null Count  Dtype  \n",
      "---  ------             --------------  -----  \n",
      " 0   squareMeters       10000 non-null  int64  \n",
      " 1   numberOfRooms      10000 non-null  int64  \n",
      " 2   hasYard            10000 non-null  int64  \n",
      " 3   hasPool            10000 non-null  int64  \n",
      " 4   floors             10000 non-null  int64  \n",
      " 5   cityCode           10000 non-null  int64  \n",
      " 6   cityPartRange      10000 non-null  int64  \n",
      " 7   numPrevOwners      10000 non-null  int64  \n",
      " 8   made               10000 non-null  int64  \n",
      " 9   isNewBuilt         10000 non-null  int64  \n",
      " 10  hasStormProtector  10000 non-null  int64  \n",
      " 11  basement           10000 non-null  int64  \n",
      " 12  attic              10000 non-null  int64  \n",
      " 13  garage             10000 non-null  int64  \n",
      " 14  hasStorageRoom     10000 non-null  int64  \n",
      " 15  hasGuestRoom       10000 non-null  int64  \n",
      " 16  price              10000 non-null  float64\n",
      "dtypes: float64(1), int64(16)\n",
      "memory usage: 1.3 MB\n"
     ]
    }
   ],
   "source": [
    "df.info()\n"
   ]
  },
  {
   "cell_type": "code",
   "execution_count": 84,
   "id": "a2f4a315-388a-4426-ac9c-36c9fd97e891",
   "metadata": {},
   "outputs": [
    {
     "data": {
      "text/plain": [
       "squareMeters         0\n",
       "numberOfRooms        0\n",
       "hasYard              0\n",
       "hasPool              0\n",
       "floors               0\n",
       "cityCode             0\n",
       "cityPartRange        0\n",
       "numPrevOwners        0\n",
       "made                 0\n",
       "isNewBuilt           0\n",
       "hasStormProtector    0\n",
       "basement             0\n",
       "attic                0\n",
       "garage               0\n",
       "hasStorageRoom       0\n",
       "hasGuestRoom         0\n",
       "price                0\n",
       "dtype: int64"
      ]
     },
     "execution_count": 84,
     "metadata": {},
     "output_type": "execute_result"
    }
   ],
   "source": [
    "df.isna().sum()"
   ]
  },
  {
   "cell_type": "code",
   "execution_count": 85,
   "id": "579a240e-fb4d-4f74-83dd-1544010f630b",
   "metadata": {},
   "outputs": [],
   "source": [
    "# For SquareMeters Columns"
   ]
  },
  {
   "cell_type": "code",
   "execution_count": 86,
   "id": "9faad191-9269-4c3e-a19d-5d85c1187d74",
   "metadata": {},
   "outputs": [
    {
     "data": {
      "text/plain": [
       "squareMeters         0\n",
       "numberOfRooms        0\n",
       "hasYard              0\n",
       "hasPool              0\n",
       "floors               0\n",
       "cityCode             0\n",
       "cityPartRange        0\n",
       "numPrevOwners        0\n",
       "made                 0\n",
       "isNewBuilt           0\n",
       "hasStormProtector    0\n",
       "basement             0\n",
       "attic                0\n",
       "garage               0\n",
       "hasStorageRoom       0\n",
       "hasGuestRoom         0\n",
       "price                0\n",
       "dtype: int64"
      ]
     },
     "execution_count": 86,
     "metadata": {},
     "output_type": "execute_result"
    }
   ],
   "source": [
    "df.isna().sum()"
   ]
  },
  {
   "cell_type": "code",
   "execution_count": 87,
   "id": "336a1c09-673b-43cf-ace5-1b7741d526a9",
   "metadata": {},
   "outputs": [],
   "source": [
    "import matplotlib.pyplot as plt"
   ]
  },
  {
   "cell_type": "code",
   "execution_count": 88,
   "id": "4499a6dd-472c-4c50-b51a-8b620746282f",
   "metadata": {},
   "outputs": [
    {
     "data": {
      "text/plain": [
       "{'whiskers': [<matplotlib.lines.Line2D at 0x2007601cd00>,\n",
       "  <matplotlib.lines.Line2D at 0x2007601ceb0>],\n",
       " 'caps': [<matplotlib.lines.Line2D at 0x2007601d180>,\n",
       "  <matplotlib.lines.Line2D at 0x2007601d450>],\n",
       " 'boxes': [<matplotlib.lines.Line2D at 0x2007601ca30>],\n",
       " 'medians': [<matplotlib.lines.Line2D at 0x2007601d720>],\n",
       " 'fliers': [<matplotlib.lines.Line2D at 0x2007601d9f0>],\n",
       " 'means': []}"
      ]
     },
     "execution_count": 88,
     "metadata": {},
     "output_type": "execute_result"
    },
    {
     "data": {
      "image/png": "[encoded data removed]",
      "text/plain": [
       "<Figure size 720x504 with 1 Axes>"
      ]
     },
     "metadata": {
      "needs_background": "light"
     },
     "output_type": "display_data"
    }
   ],
   "source": [
    "fig = plt.figure(figsize=(10, 7))\n",
    "plt.boxplot(df[\"squareMeters\"])"
   ]
  },
  {
   "cell_type": "code",
   "execution_count": 89,
   "id": "b869e19c-b94d-44e4-9fb0-151510fb76b2",
   "metadata": {},
   "outputs": [],
   "source": [
    "#For NumberOfRooms columns"
   ]
  },
  {
   "cell_type": "code",
   "execution_count": 90,
   "id": "2b365cd9-6bb2-4674-b43a-edac7f1c2233",
   "metadata": {},
   "outputs": [
    {
     "data": {
      "text/plain": [
       "{'whiskers': [<matplotlib.lines.Line2D at 0x2007606a740>,\n",
       "  <matplotlib.lines.Line2D at 0x2007606aa10>],\n",
       " 'caps': [<matplotlib.lines.Line2D at 0x2007606ace0>,\n",
       "  <matplotlib.lines.Line2D at 0x2007606afb0>],\n",
       " 'boxes': [<matplotlib.lines.Line2D at 0x2007606a470>],\n",
       " 'medians': [<matplotlib.lines.Line2D at 0x2007606b280>],\n",
       " 'fliers': [<matplotlib.lines.Line2D at 0x2007606b550>],\n",
       " 'means': []}"
      ]
     },
     "execution_count": 90,
     "metadata": {},
     "output_type": "execute_result"
    },
    {
     "data": {
      "image/png": "[encoded data removed]",
      "text/plain": [
       "<Figure size 720x504 with 1 Axes>"
      ]
     },
     "metadata": {
      "needs_background": "light"
     },
     "output_type": "display_data"
    }
   ],
   "source": [
    "fig = plt.figure(figsize=(10, 7))\n",
    "plt.boxplot(df[\"numberOfRooms\"])"
   ]
  },
  {
   "cell_type": "code",
   "execution_count": 91,
   "id": "ec2fa063-c70c-42ba-85c3-4e18d730c2d6",
   "metadata": {},
   "outputs": [],
   "source": [
    "# for hasYard column"
   ]
  },
  {
   "cell_type": "code",
   "execution_count": 92,
   "id": "ddc97b08-197d-4bd7-ac08-28cccf7ad571",
   "metadata": {},
   "outputs": [
    {
     "data": {
      "text/plain": [
       "{'whiskers': [<matplotlib.lines.Line2D at 0x200760f4340>,\n",
       "  <matplotlib.lines.Line2D at 0x200760f4610>],\n",
       " 'caps': [<matplotlib.lines.Line2D at 0x200760f48e0>,\n",
       "  <matplotlib.lines.Line2D at 0x200760f4bb0>],\n",
       " 'boxes': [<matplotlib.lines.Line2D at 0x200760f4070>],\n",
       " 'medians': [<matplotlib.lines.Line2D at 0x200760f4e80>],\n",
       " 'fliers': [<matplotlib.lines.Line2D at 0x200760f5150>],\n",
       " 'means': []}"
      ]
     },
     "execution_count": 92,
     "metadata": {},
     "output_type": "execute_result"
    },
    {
     "data": {
      "image/png": "[encoded data removed]",
      "text/plain": [
       "<Figure size 720x504 with 1 Axes>"
      ]
     },
     "metadata": {
      "needs_background": "light"
     },
     "output_type": "display_data"
    }
   ],
   "source": [
    "fig = plt.figure(figsize=(10, 7))\n",
    "plt.boxplot(df[\"hasYard\"])"
   ]
  },
  {
   "cell_type": "code",
   "execution_count": 93,
   "id": "7759b464-092a-4a85-943d-55359054e33b",
   "metadata": {},
   "outputs": [],
   "source": [
    "# for hasPool column"
   ]
  },
  {
   "cell_type": "code",
   "execution_count": 94,
   "id": "8d10dbf2-3f38-40ae-9f4c-b6b1e6211366",
   "metadata": {},
   "outputs": [
    {
     "data": {
      "text/plain": [
       "{'whiskers': [<matplotlib.lines.Line2D at 0x2007613df30>,\n",
       "  <matplotlib.lines.Line2D at 0x2007613e200>],\n",
       " 'caps': [<matplotlib.lines.Line2D at 0x2007613e4d0>,\n",
       "  <matplotlib.lines.Line2D at 0x2007613e7a0>],\n",
       " 'boxes': [<matplotlib.lines.Line2D at 0x2007613dc60>],\n",
       " 'medians': [<matplotlib.lines.Line2D at 0x2007613ea70>],\n",
       " 'fliers': [<matplotlib.lines.Line2D at 0x2007613ed40>],\n",
       " 'means': []}"
      ]
     },
     "execution_count": 94,
     "metadata": {},
     "output_type": "execute_result"
    },
    {
     "data": {
      "image/png": "[encoded data removed]",
      "text/plain": [
       "<Figure size 720x504 with 1 Axes>"
      ]
     },
     "metadata": {
      "needs_background": "light"
     },
     "output_type": "display_data"
    }
   ],
   "source": [
    "fig = plt.figure(figsize=(10, 7))\n",
    "plt.boxplot(df[\"hasPool\"])"
   ]
  },
  {
   "cell_type": "code",
   "execution_count": 95,
   "id": "60b013c1-6264-4b67-84b0-f3713e20f21b",
   "metadata": {},
   "outputs": [],
   "source": [
    "# for floors column"
   ]
  },
  {
   "cell_type": "code",
   "execution_count": 96,
   "id": "75964b46-d4fb-422d-9b3c-1859f30b1088",
   "metadata": {},
   "outputs": [
    {
     "data": {
      "text/plain": [
       "{'whiskers': [<matplotlib.lines.Line2D at 0x2007618faf0>,\n",
       "  <matplotlib.lines.Line2D at 0x2007618fdc0>],\n",
       " 'caps': [<matplotlib.lines.Line2D at 0x200761b80d0>,\n",
       "  <matplotlib.lines.Line2D at 0x200761b83a0>],\n",
       " 'boxes': [<matplotlib.lines.Line2D at 0x2007618f820>],\n",
       " 'medians': [<matplotlib.lines.Line2D at 0x200761b8670>],\n",
       " 'fliers': [<matplotlib.lines.Line2D at 0x200761b8940>],\n",
       " 'means': []}"
      ]
     },
     "execution_count": 96,
     "metadata": {},
     "output_type": "execute_result"
    },
    {
     "data": {
      "image/png": "[encoded data removed]",
      "text/plain": [
       "<Figure size 720x504 with 1 Axes>"
      ]
     },
     "metadata": {
      "needs_background": "light"
     },
     "output_type": "display_data"
    }
   ],
   "source": [
    "fig = plt.figure(figsize=(10, 7))\n",
    "plt.boxplot(df[\"floors\"])"
   ]
  },
  {
   "cell_type": "code",
   "execution_count": 97,
   "id": "8cf01b96-7292-4085-941a-6439062f12aa",
   "metadata": {},
   "outputs": [],
   "source": [
    "\n",
    "# for cityCode column"
   ]
  },
  {
   "cell_type": "code",
   "execution_count": 98,
   "id": "0fe515be-960c-4954-b6f6-b1b624133186",
   "metadata": {},
   "outputs": [
    {
     "data": {
      "text/plain": [
       "{'whiskers': [<matplotlib.lines.Line2D at 0x20076400fa0>,\n",
       "  <matplotlib.lines.Line2D at 0x20076401270>],\n",
       " 'caps': [<matplotlib.lines.Line2D at 0x20076401540>,\n",
       "  <matplotlib.lines.Line2D at 0x20076401810>],\n",
       " 'boxes': [<matplotlib.lines.Line2D at 0x20076400cd0>],\n",
       " 'medians': [<matplotlib.lines.Line2D at 0x20076401ae0>],\n",
       " 'fliers': [<matplotlib.lines.Line2D at 0x20076401db0>],\n",
       " 'means': []}"
      ]
     },
     "execution_count": 98,
     "metadata": {},
     "output_type": "execute_result"
    },
    {
     "data": {
      "image/png": "[encoded data removed]",
      "text/plain": [
       "<Figure size 720x504 with 1 Axes>"
      ]
     },
     "metadata": {
      "needs_background": "light"
     },
     "output_type": "display_data"
    }
   ],
   "source": [
    "fig = plt.figure(figsize=(10, 7))\n",
    "plt.boxplot(df[\"cityCode\"])"
   ]
  },
  {
   "cell_type": "code",
   "execution_count": 99,
   "id": "01b5f716-e9fd-43c3-94fd-c0ebab8ba58b",
   "metadata": {},
   "outputs": [],
   "source": [
    "# for cityPartRange column"
   ]
  },
  {
   "cell_type": "code",
   "execution_count": 100,
   "id": "7be8de03-b5ca-408d-a10d-8bcb42ff74e4",
   "metadata": {},
   "outputs": [
    {
     "data": {
      "text/plain": [
       "{'whiskers': [<matplotlib.lines.Line2D at 0x20076456c50>,\n",
       "  <matplotlib.lines.Line2D at 0x20076456f20>],\n",
       " 'caps': [<matplotlib.lines.Line2D at 0x200764571f0>,\n",
       "  <matplotlib.lines.Line2D at 0x200764574c0>],\n",
       " 'boxes': [<matplotlib.lines.Line2D at 0x20076456980>],\n",
       " 'medians': [<matplotlib.lines.Line2D at 0x20076457790>],\n",
       " 'fliers': [<matplotlib.lines.Line2D at 0x20076457a60>],\n",
       " 'means': []}"
      ]
     },
     "execution_count": 100,
     "metadata": {},
     "output_type": "execute_result"
    },
    {
     "data": {
      "image/png": "[encoded data removed]",
      "text/plain": [
       "<Figure size 720x504 with 1 Axes>"
      ]
     },
     "metadata": {
      "needs_background": "light"
     },
     "output_type": "display_data"
    }
   ],
   "source": [
    "fig = plt.figure(figsize=(10, 7))\n",
    "plt.boxplot(df[\"cityPartRange\"])"
   ]
  },
  {
   "cell_type": "code",
   "execution_count": 101,
   "id": "6643738c-77cc-48b5-ba19-9adb91a75260",
   "metadata": {},
   "outputs": [],
   "source": [
    "# for numPrevOwners column"
   ]
  },
  {
   "cell_type": "code",
   "execution_count": 102,
   "id": "ae4e81fd-b00f-4b9b-888b-e334f74719b9",
   "metadata": {},
   "outputs": [
    {
     "data": {
      "text/plain": [
       "{'whiskers': [<matplotlib.lines.Line2D at 0x200764dc310>,\n",
       "  <matplotlib.lines.Line2D at 0x200764dc5e0>],\n",
       " 'caps': [<matplotlib.lines.Line2D at 0x200764dc8b0>,\n",
       "  <matplotlib.lines.Line2D at 0x200764dcb80>],\n",
       " 'boxes': [<matplotlib.lines.Line2D at 0x200764dc040>],\n",
       " 'medians': [<matplotlib.lines.Line2D at 0x200764dce50>],\n",
       " 'fliers': [<matplotlib.lines.Line2D at 0x200764dd120>],\n",
       " 'means': []}"
      ]
     },
     "execution_count": 102,
     "metadata": {},
     "output_type": "execute_result"
    },
    {
     "data": {
      "image/png": "[encoded data removed]",
      "text/plain": [
       "<Figure size 720x504 with 1 Axes>"
      ]
     },
     "metadata": {
      "needs_background": "light"
     },
     "output_type": "display_data"
    }
   ],
   "source": [
    "fig = plt.figure(figsize=(10, 7))\n",
    "plt.boxplot(df[\"numPrevOwners\"])"
   ]
  },
  {
   "cell_type": "code",
   "execution_count": 103,
   "id": "490193a0-0347-49e9-9b7c-1c94e36d5268",
   "metadata": {},
   "outputs": [],
   "source": [
    "# for made column"
   ]
  },
  {
   "cell_type": "code",
   "execution_count": 104,
   "id": "fb4863d1-0d5f-4aed-8352-2fb55f91816a",
   "metadata": {},
   "outputs": [
    {
     "data": {
      "text/plain": [
       "{'whiskers': [<matplotlib.lines.Line2D at 0x2007214bb20>,\n",
       "  <matplotlib.lines.Line2D at 0x20072a39f90>],\n",
       " 'caps': [<matplotlib.lines.Line2D at 0x20072a3b100>,\n",
       "  <matplotlib.lines.Line2D at 0x20072a3b3a0>],\n",
       " 'boxes': [<matplotlib.lines.Line2D at 0x200724df940>],\n",
       " 'medians': [<matplotlib.lines.Line2D at 0x20072a38370>],\n",
       " 'fliers': [<matplotlib.lines.Line2D at 0x20072a3b640>],\n",
       " 'means': []}"
      ]
     },
     "execution_count": 104,
     "metadata": {},
     "output_type": "execute_result"
    },
    {
     "data": {
      "image/png": "[encoded data removed]",
      "text/plain": [
       "<Figure size 720x504 with 1 Axes>"
      ]
     },
     "metadata": {
      "needs_background": "light"
     },
     "output_type": "display_data"
    }
   ],
   "source": [
    "fig = plt.figure(figsize=(10, 7))\n",
    "plt.boxplot(df[\"made\"])"
   ]
  },
  {
   "cell_type": "code",
   "execution_count": 105,
   "id": "79ed6eeb-e839-46b7-b166-6edfe6190c49",
   "metadata": {},
   "outputs": [],
   "source": [
    "# for isNewBuilt column"
   ]
  },
  {
   "cell_type": "code",
   "execution_count": 106,
   "id": "6e7d0541-08ea-4bd0-a198-06879fa52331",
   "metadata": {},
   "outputs": [
    {
     "data": {
      "text/plain": [
       "{'whiskers': [<matplotlib.lines.Line2D at 0x20076505ea0>,\n",
       "  <matplotlib.lines.Line2D at 0x20076506170>],\n",
       " 'caps': [<matplotlib.lines.Line2D at 0x20076506440>,\n",
       "  <matplotlib.lines.Line2D at 0x20076506710>],\n",
       " 'boxes': [<matplotlib.lines.Line2D at 0x20076505bd0>],\n",
       " 'medians': [<matplotlib.lines.Line2D at 0x200765069e0>],\n",
       " 'fliers': [<matplotlib.lines.Line2D at 0x20076506cb0>],\n",
       " 'means': []}"
      ]
     },
     "execution_count": 106,
     "metadata": {},
     "output_type": "execute_result"
    },
    {
     "data": {
      "image/png": "[encoded data removed]",
      "text/plain": [
       "<Figure size 720x504 with 1 Axes>"
      ]
     },
     "metadata": {
      "needs_background": "light"
     },
     "output_type": "display_data"
    }
   ],
   "source": [
    "fig = plt.figure(figsize=(10, 7))\n",
    "plt.boxplot(df[\"isNewBuilt\"])"
   ]
  },
  {
   "cell_type": "code",
   "execution_count": 107,
   "id": "933b7d51-2b18-4d12-9e70-c9911000b1cc",
   "metadata": {},
   "outputs": [],
   "source": [
    "# for hasStormProtector column"
   ]
  },
  {
   "cell_type": "code",
   "execution_count": 108,
   "id": "f8dd023b-9a77-405c-9c39-0b71d7c8351e",
   "metadata": {},
   "outputs": [
    {
     "data": {
      "text/plain": [
       "{'whiskers': [<matplotlib.lines.Line2D at 0x200765543d0>,\n",
       "  <matplotlib.lines.Line2D at 0x200765546a0>],\n",
       " 'caps': [<matplotlib.lines.Line2D at 0x20076554970>,\n",
       "  <matplotlib.lines.Line2D at 0x20076554c40>],\n",
       " 'boxes': [<matplotlib.lines.Line2D at 0x20076554100>],\n",
       " 'medians': [<matplotlib.lines.Line2D at 0x20076554f10>],\n",
       " 'fliers': [<matplotlib.lines.Line2D at 0x200765551e0>],\n",
       " 'means': []}"
      ]
     },
     "execution_count": 108,
     "metadata": {},
     "output_type": "execute_result"
    },
    {
     "data": {
      "image/png": "[encoded data removed]",
      "text/plain": [
       "<Figure size 720x504 with 1 Axes>"
      ]
     },
     "metadata": {
      "needs_background": "light"
     },
     "output_type": "display_data"
    }
   ],
   "source": [
    "\n",
    "fig = plt.figure(figsize=(10, 7))\n",
    "plt.boxplot(df[\"hasStormProtector\"])"
   ]
  },
  {
   "cell_type": "code",
   "execution_count": 109,
   "id": "350f9f08-0e91-4081-a9cb-da7502b0fc34",
   "metadata": {},
   "outputs": [],
   "source": [
    "# for basement column"
   ]
  },
  {
   "cell_type": "code",
   "execution_count": 110,
   "id": "e2b59954-0745-4c06-b651-76ddf586aa0b",
   "metadata": {},
   "outputs": [
    {
     "data": {
      "text/plain": [
       "{'whiskers': [<matplotlib.lines.Line2D at 0x2007658e680>,\n",
       "  <matplotlib.lines.Line2D at 0x2007658e950>],\n",
       " 'caps': [<matplotlib.lines.Line2D at 0x2007658ec20>,\n",
       "  <matplotlib.lines.Line2D at 0x2007658eef0>],\n",
       " 'boxes': [<matplotlib.lines.Line2D at 0x2007658e3b0>],\n",
       " 'medians': [<matplotlib.lines.Line2D at 0x2007658f1c0>],\n",
       " 'fliers': [<matplotlib.lines.Line2D at 0x2007658f490>],\n",
       " 'means': []}"
      ]
     },
     "execution_count": 110,
     "metadata": {},
     "output_type": "execute_result"
    },
    {
     "data": {
      "image/png": "[encoded data removed]",
      "text/plain": [
       "<Figure size 720x504 with 1 Axes>"
      ]
     },
     "metadata": {
      "needs_background": "light"
     },
     "output_type": "display_data"
    }
   ],
   "source": [
    "fig = plt.figure(figsize=(10, 7))\n",
    "plt.boxplot(df[\"basement\"])"
   ]
  },
  {
   "cell_type": "code",
   "execution_count": 111,
   "id": "841cae88-927b-40d0-ac91-a641b0c8a1ae",
   "metadata": {},
   "outputs": [],
   "source": [
    "# for attic column"
   ]
  },
  {
   "cell_type": "code",
   "execution_count": 112,
   "id": "3214a984-22a8-4bed-8ebd-1875d9d51c9d",
   "metadata": {},
   "outputs": [
    {
     "data": {
      "text/plain": [
       "{'whiskers': [<matplotlib.lines.Line2D at 0x200765fc970>,\n",
       "  <matplotlib.lines.Line2D at 0x200765fcc40>],\n",
       " 'caps': [<matplotlib.lines.Line2D at 0x200765fcf10>,\n",
       "  <matplotlib.lines.Line2D at 0x200765fd1e0>],\n",
       " 'boxes': [<matplotlib.lines.Line2D at 0x200765fc6a0>],\n",
       " 'medians': [<matplotlib.lines.Line2D at 0x200765fd4b0>],\n",
       " 'fliers': [<matplotlib.lines.Line2D at 0x200765fd780>],\n",
       " 'means': []}"
      ]
     },
     "execution_count": 112,
     "metadata": {},
     "output_type": "execute_result"
    },
    {
     "data": {
      "image/png": "[encoded data removed]",
      "text/plain": [
       "<Figure size 720x504 with 1 Axes>"
      ]
     },
     "metadata": {
      "needs_background": "light"
     },
     "output_type": "display_data"
    }
   ],
   "source": [
    "fig = plt.figure(figsize=(10, 7))\n",
    "plt.boxplot(df[\"attic\"])"
   ]
  },
  {
   "cell_type": "code",
   "execution_count": 113,
   "id": "b26887e7-2867-4be4-ba3d-ac6e4a165377",
   "metadata": {},
   "outputs": [],
   "source": [
    "# for garage column"
   ]
  },
  {
   "cell_type": "code",
   "execution_count": 114,
   "id": "32478d96-2762-433f-a7e7-b698a255ffec",
   "metadata": {},
   "outputs": [
    {
     "data": {
      "text/plain": [
       "{'whiskers': [<matplotlib.lines.Line2D at 0x2007684ac20>,\n",
       "  <matplotlib.lines.Line2D at 0x2007684aef0>],\n",
       " 'caps': [<matplotlib.lines.Line2D at 0x2007684b1c0>,\n",
       "  <matplotlib.lines.Line2D at 0x2007684b490>],\n",
       " 'boxes': [<matplotlib.lines.Line2D at 0x2007684a950>],\n",
       " 'medians': [<matplotlib.lines.Line2D at 0x2007684b760>],\n",
       " 'fliers': [<matplotlib.lines.Line2D at 0x2007684ba30>],\n",
       " 'means': []}"
      ]
     },
     "execution_count": 114,
     "metadata": {},
     "output_type": "execute_result"
    },
    {
     "data": {
      "image/png": "[encoded data removed]",
      "text/plain": [
       "<Figure size 720x504 with 1 Axes>"
      ]
     },
     "metadata": {
      "needs_background": "light"
     },
     "output_type": "display_data"
    }
   ],
   "source": [
    "fig = plt.figure(figsize=(10, 7))\n",
    "plt.boxplot(df[\"garage\"])"
   ]
  },
  {
   "cell_type": "code",
   "execution_count": 115,
   "id": "d5cf87d7-c102-4e4a-bf28-a85a05c9165d",
   "metadata": {},
   "outputs": [],
   "source": [
    "# for hasStorageRoom column"
   ]
  },
  {
   "cell_type": "code",
   "execution_count": 116,
   "id": "6bcdbc12-74fe-49b0-9e27-cdd05869c44c",
   "metadata": {},
   "outputs": [
    {
     "data": {
      "text/plain": [
       "{'whiskers': [<matplotlib.lines.Line2D at 0x200768c8970>,\n",
       "  <matplotlib.lines.Line2D at 0x200768c8c40>],\n",
       " 'caps': [<matplotlib.lines.Line2D at 0x200768c8f10>,\n",
       "  <matplotlib.lines.Line2D at 0x200768c91e0>],\n",
       " 'boxes': [<matplotlib.lines.Line2D at 0x200768c86a0>],\n",
       " 'medians': [<matplotlib.lines.Line2D at 0x200768c94b0>],\n",
       " 'fliers': [<matplotlib.lines.Line2D at 0x200768c9780>],\n",
       " 'means': []}"
      ]
     },
     "execution_count": 116,
     "metadata": {},
     "output_type": "execute_result"
    },
    {
     "data": {
      "image/png": "[encoded data removed]",
      "text/plain": [
       "<Figure size 720x504 with 1 Axes>"
      ]
     },
     "metadata": {
      "needs_background": "light"
     },
     "output_type": "display_data"
    }
   ],
   "source": [
    "fig = plt.figure(figsize=(10, 7))\n",
    "plt.boxplot(df[\"hasStorageRoom\"])"
   ]
  },
  {
   "cell_type": "code",
   "execution_count": 117,
   "id": "b250ec5b-510b-4cd6-8126-8d73d8bfa64b",
   "metadata": {},
   "outputs": [],
   "source": [
    "# for hasGuestRoom column"
   ]
  },
  {
   "cell_type": "code",
   "execution_count": 118,
   "id": "a3595e97-f45b-4248-92de-f999933447f8",
   "metadata": {},
   "outputs": [
    {
     "data": {
      "text/plain": [
       "{'whiskers': [<matplotlib.lines.Line2D at 0x2007690ac50>,\n",
       "  <matplotlib.lines.Line2D at 0x2007690af20>],\n",
       " 'caps': [<matplotlib.lines.Line2D at 0x2007690b1f0>,\n",
       "  <matplotlib.lines.Line2D at 0x2007690b4c0>],\n",
       " 'boxes': [<matplotlib.lines.Line2D at 0x2007690a980>],\n",
       " 'medians': [<matplotlib.lines.Line2D at 0x2007690b790>],\n",
       " 'fliers': [<matplotlib.lines.Line2D at 0x2007690ba60>],\n",
       " 'means': []}"
      ]
     },
     "execution_count": 118,
     "metadata": {},
     "output_type": "execute_result"
    },
    {
     "data": {
      "image/png": "[encoded data removed]",
      "text/plain": [
       "<Figure size 720x504 with 1 Axes>"
      ]
     },
     "metadata": {
      "needs_background": "light"
     },
     "output_type": "display_data"
    }
   ],
   "source": [
    "fig = plt.figure(figsize=(10, 7))\n",
    "plt.boxplot(df[\"hasGuestRoom\"])"
   ]
  },
  {
   "cell_type": "code",
   "execution_count": 119,
   "id": "1cc0a2f9-5ff1-433e-9e5f-b31bb1550aef",
   "metadata": {},
   "outputs": [],
   "source": [
    "# for price column"
   ]
  },
  {
   "cell_type": "code",
   "execution_count": 120,
   "id": "145fa9cd-8ca4-4005-8ea8-39015bf05416",
   "metadata": {},
   "outputs": [
    {
     "data": {
      "text/plain": [
       "{'whiskers': [<matplotlib.lines.Line2D at 0x2007698cf40>,\n",
       "  <matplotlib.lines.Line2D at 0x2007698d210>],\n",
       " 'caps': [<matplotlib.lines.Line2D at 0x2007698d4e0>,\n",
       "  <matplotlib.lines.Line2D at 0x2007698d7b0>],\n",
       " 'boxes': [<matplotlib.lines.Line2D at 0x2007698cc70>],\n",
       " 'medians': [<matplotlib.lines.Line2D at 0x2007698da80>],\n",
       " 'fliers': [<matplotlib.lines.Line2D at 0x2007698dd50>],\n",
       " 'means': []}"
      ]
     },
     "execution_count": 120,
     "metadata": {},
     "output_type": "execute_result"
    },
    {
     "data": {
      "image/png": "[encoded data removed]",
      "text/plain": [
       "<Figure size 720x504 with 1 Axes>"
      ]
     },
     "metadata": {
      "needs_background": "light"
     },
     "output_type": "display_data"
    }
   ],
   "source": [
    "fig = plt.figure(figsize=(10, 7))\n",
    "plt.boxplot(df[\"price\"])"
   ]
  },
  {
   "cell_type": "code",
   "execution_count": 121,
   "id": "401c7fec-b338-4266-aec0-6502e6fa4413",
   "metadata": {},
   "outputs": [],
   "source": [
    "from sklearn.model_selection import train_test_split"
   ]
  },
  {
   "cell_type": "code",
   "execution_count": 122,
   "id": "87904f13-3f79-4d6e-ade8-3dc5425ae6a9",
   "metadata": {},
   "outputs": [],
   "source": [
    "import seaborn as sns"
   ]
  },
  {
   "cell_type": "code",
   "execution_count": 123,
   "id": "e3a0c988-0095-480f-a592-d6ff488a7b3c",
   "metadata": {},
   "outputs": [
    {
     "data": {
      "text/plain": [
       "<AxesSubplot:>"
      ]
     },
     "execution_count": 123,
     "metadata": {},
     "output_type": "execute_result"
    },
    {
     "data": {
      "image/png": "[encoded data removed]",
      "text/plain": [
       "<Figure size 1080x720 with 2 Axes>"
      ]
     },
     "metadata": {
      "needs_background": "light"
     },
     "output_type": "display_data"
    }
   ],
   "source": [
    "plt.figure(figsize =(15,10))\n",
    "sns.heatmap(df.corr(), annot = True)"
   ]
  },
  {
   "cell_type": "code",
   "execution_count": 124,
   "id": "b3a57c1d-7c1d-4be4-abb3-d5956e36d009",
   "metadata": {},
   "outputs": [],
   "source": [
    "from statsmodels.stats.outliers_influence import variance_inflation_factor"
   ]
  },
  {
   "cell_type": "code",
   "execution_count": 125,
   "id": "b69af3be-c1ed-48b7-bea9-e8a339bc60b8",
   "metadata": {},
   "outputs": [
    {
     "data": {
      "text/plain": [
       "Index(['squareMeters', 'numberOfRooms', 'hasYard', 'hasPool', 'floors',\n",
       "       'cityCode', 'cityPartRange', 'numPrevOwners', 'made', 'isNewBuilt',\n",
       "       'hasStormProtector', 'basement', 'attic', 'garage', 'hasStorageRoom',\n",
       "       'hasGuestRoom', 'price'],\n",
       "      dtype='object')"
      ]
     },
     "execution_count": 125,
     "metadata": {},
     "output_type": "execute_result"
    }
   ],
   "source": [
    "df.columns"
   ]
  },
  {
   "cell_type": "code",
   "execution_count": 126,
   "id": "42d6d49a-3b88-4223-a529-d7675d75afb8",
   "metadata": {},
   "outputs": [
    {
     "data": {
      "text/plain": [
       "(10000, 16)"
      ]
     },
     "execution_count": 126,
     "metadata": {},
     "output_type": "execute_result"
    }
   ],
   "source": [
    "y =df[\"price\"]\n",
    "y\n",
    "x = df.drop(columns = [\"price\"], axis =1)\n",
    "x.shape"
   ]
  },
  {
   "cell_type": "code",
   "execution_count": 127,
   "id": "39755bcc-d379-45bb-8063-abbf8e0c896e",
   "metadata": {},
   "outputs": [
    {
     "data": {
      "text/html": [
       "<div><div id=98419d30-09b9-44b2-a5c9-e251bf9e3f5e style=\"display:none; background-color:#9D6CFF; color:white; width:200px; height:30px; padding-left:5px; border-radius:4px; flex-direction:row; justify-content:space-around; align-items:center;\" onmouseover=\"this.style.backgroundColor='#BA9BF8'\" onmouseout=\"this.style.backgroundColor='#9D6CFF'\" onclick=\"window.commands?.execute('create-mitosheet-from-dataframe-output');\">See Full Dataframe in Mito</div> <script> if (window.commands.hasCommand('create-mitosheet-from-dataframe-output')) document.getElementById('98419d30-09b9-44b2-a5c9-e251bf9e3f5e').style.display = 'flex' </script> <table border=\"1\" class=\"dataframe\">\n",
       "  <thead>\n",
       "    <tr style=\"text-align: right;\">\n",
       "      <th></th>\n",
       "      <th>variables</th>\n",
       "      <th>VIF</th>\n",
       "    </tr>\n",
       "  </thead>\n",
       "  <tbody>\n",
       "    <tr>\n",
       "      <th>0</th>\n",
       "      <td>squareMeters</td>\n",
       "      <td>4.007454</td>\n",
       "    </tr>\n",
       "    <tr>\n",
       "      <th>1</th>\n",
       "      <td>numberOfRooms</td>\n",
       "      <td>4.064582</td>\n",
       "    </tr>\n",
       "    <tr>\n",
       "      <th>2</th>\n",
       "      <td>hasYard</td>\n",
       "      <td>2.037212</td>\n",
       "    </tr>\n",
       "    <tr>\n",
       "      <th>3</th>\n",
       "      <td>hasPool</td>\n",
       "      <td>1.989521</td>\n",
       "    </tr>\n",
       "    <tr>\n",
       "      <th>4</th>\n",
       "      <td>floors</td>\n",
       "      <td>4.034013</td>\n",
       "    </tr>\n",
       "    <tr>\n",
       "      <th>...</th>\n",
       "      <td>...</td>\n",
       "      <td>...</td>\n",
       "    </tr>\n",
       "    <tr>\n",
       "      <th>11</th>\n",
       "      <td>basement</td>\n",
       "      <td>4.065724</td>\n",
       "    </tr>\n",
       "    <tr>\n",
       "      <th>12</th>\n",
       "      <td>attic</td>\n",
       "      <td>4.022794</td>\n",
       "    </tr>\n",
       "    <tr>\n",
       "      <th>13</th>\n",
       "      <td>garage</td>\n",
       "      <td>5.470937</td>\n",
       "    </tr>\n",
       "    <tr>\n",
       "      <th>14</th>\n",
       "      <td>hasStorageRoom</td>\n",
       "      <td>2.017443</td>\n",
       "    </tr>\n",
       "    <tr>\n",
       "      <th>15</th>\n",
       "      <td>hasGuestRoom</td>\n",
       "      <td>3.480385</td>\n",
       "    </tr>\n",
       "  </tbody>\n",
       "</table></div>"
      ],
      "text/plain": [
       "            variables        VIF\n",
       "0        squareMeters   4.007454\n",
       "1       numberOfRooms   4.064582\n",
       "2             hasYard   2.037212\n",
       "3             hasPool   1.989521\n",
       "4              floors   4.034013\n",
       "5            cityCode   4.000543\n",
       "6       cityPartRange   4.685937\n",
       "7       numPrevOwners   4.748642\n",
       "8                made  38.092158\n",
       "9          isNewBuilt   1.999563\n",
       "10  hasStormProtector   2.000269\n",
       "11           basement   4.065724\n",
       "12              attic   4.022794\n",
       "13             garage   5.470937\n",
       "14     hasStorageRoom   2.017443\n",
       "15       hasGuestRoom   3.480385"
      ]
     },
     "execution_count": 127,
     "metadata": {},
     "output_type": "execute_result"
    }
   ],
   "source": [
    "# to confirm multiculiniarity\n",
    "\n",
    "def calcu_mult(df):\n",
    "    vif = pd.DataFrame()\n",
    "    vif[\"variables\"] = x.columns\n",
    "    vif[\"VIF\"] = [variance_inflation_factor(x.values, i) for i in range(x.shape[1])]\n",
    "\n",
    "    return vif\n",
    "\n",
    "calcu_mult(x)"
   ]
  },
  {
   "cell_type": "code",
   "execution_count": 128,
   "id": "2f9e9a70-c13f-4d19-9833-579739847b61",
   "metadata": {},
   "outputs": [
    {
     "data": {
      "application/vnd.jupyter.widget-view+json": {
       "model_id": "27bfb31f793142ada036ee2f64741488",
       "version_major": 2,
       "version_minor": 0
      },
      "text/plain": [
       "MitoWidget(analysis_data_json='{\"analysisName\": \"UUID-3cff4d4d-94d3-40f8-b9f2-a56848e1c9ee\", \"code\": {\"imports…"
      ]
     },
     "metadata": {},
     "output_type": "display_data"
    }
   ],
   "source": [
    "import mitosheet\n",
    "mitosheet.sheet(calcu_mult(x), view_df=True)"
   ]
  },
  {
   "cell_type": "code",
   "execution_count": null,
   "id": "05a69f31-a6ba-4e94-b36a-e3e7d4c1a51d",
   "metadata": {},
   "outputs": [],
   "source": []
  },
  {
   "cell_type": "code",
   "execution_count": 129,
   "id": "1e8ad29d-5067-4af1-9e59-e6f9e4d12512",
   "metadata": {},
   "outputs": [
    {
     "data": {
      "text/html": [
       "<div><div id=65cebc59-29a5-4d6a-b5c9-5d88af37006c style=\"display:none; background-color:#9D6CFF; color:white; width:200px; height:30px; padding-left:5px; border-radius:4px; flex-direction:row; justify-content:space-around; align-items:center;\" onmouseover=\"this.style.backgroundColor='#BA9BF8'\" onmouseout=\"this.style.backgroundColor='#9D6CFF'\" onclick=\"window.commands?.execute('create-mitosheet-from-dataframe-output');\">See Full Dataframe in Mito</div> <script> if (window.commands.hasCommand('create-mitosheet-from-dataframe-output')) document.getElementById('65cebc59-29a5-4d6a-b5c9-5d88af37006c').style.display = 'flex' </script> <table border=\"1\" class=\"dataframe\">\n",
       "  <thead>\n",
       "    <tr style=\"text-align: right;\">\n",
       "      <th></th>\n",
       "      <th>squareMeters</th>\n",
       "      <th>hasPool</th>\n",
       "      <th>floors</th>\n",
       "      <th>cityCode</th>\n",
       "      <th>numPrevOwners</th>\n",
       "      <th>made</th>\n",
       "      <th>isNewBuilt</th>\n",
       "      <th>hasStormProtector</th>\n",
       "      <th>basement</th>\n",
       "      <th>attic</th>\n",
       "      <th>garage</th>\n",
       "      <th>hasStorageRoom</th>\n",
       "      <th>hasGuestRoom</th>\n",
       "      <th>price</th>\n",
       "    </tr>\n",
       "  </thead>\n",
       "  <tbody>\n",
       "    <tr>\n",
       "      <th>0</th>\n",
       "      <td>75523</td>\n",
       "      <td>1</td>\n",
       "      <td>63</td>\n",
       "      <td>9373</td>\n",
       "      <td>8</td>\n",
       "      <td>2005</td>\n",
       "      <td>0</td>\n",
       "      <td>1</td>\n",
       "      <td>4313</td>\n",
       "      <td>9005</td>\n",
       "      <td>956</td>\n",
       "      <td>0</td>\n",
       "      <td>7</td>\n",
       "      <td>7559081.5</td>\n",
       "    </tr>\n",
       "    <tr>\n",
       "      <th>1</th>\n",
       "      <td>80771</td>\n",
       "      <td>1</td>\n",
       "      <td>98</td>\n",
       "      <td>39381</td>\n",
       "      <td>6</td>\n",
       "      <td>2015</td>\n",
       "      <td>1</td>\n",
       "      <td>0</td>\n",
       "      <td>3653</td>\n",
       "      <td>2436</td>\n",
       "      <td>128</td>\n",
       "      <td>1</td>\n",
       "      <td>2</td>\n",
       "      <td>8085989.5</td>\n",
       "    </tr>\n",
       "    <tr>\n",
       "      <th>2</th>\n",
       "      <td>55712</td>\n",
       "      <td>1</td>\n",
       "      <td>19</td>\n",
       "      <td>34457</td>\n",
       "      <td>8</td>\n",
       "      <td>2021</td>\n",
       "      <td>0</td>\n",
       "      <td>0</td>\n",
       "      <td>2937</td>\n",
       "      <td>8852</td>\n",
       "      <td>135</td>\n",
       "      <td>1</td>\n",
       "      <td>9</td>\n",
       "      <td>5574642.1</td>\n",
       "    </tr>\n",
       "    <tr>\n",
       "      <th>3</th>\n",
       "      <td>32316</td>\n",
       "      <td>0</td>\n",
       "      <td>6</td>\n",
       "      <td>27939</td>\n",
       "      <td>4</td>\n",
       "      <td>2012</td>\n",
       "      <td>0</td>\n",
       "      <td>1</td>\n",
       "      <td>659</td>\n",
       "      <td>7141</td>\n",
       "      <td>359</td>\n",
       "      <td>0</td>\n",
       "      <td>3</td>\n",
       "      <td>3232561.2</td>\n",
       "    </tr>\n",
       "    <tr>\n",
       "      <th>4</th>\n",
       "      <td>70429</td>\n",
       "      <td>1</td>\n",
       "      <td>90</td>\n",
       "      <td>38045</td>\n",
       "      <td>7</td>\n",
       "      <td>1990</td>\n",
       "      <td>1</td>\n",
       "      <td>0</td>\n",
       "      <td>8435</td>\n",
       "      <td>2429</td>\n",
       "      <td>292</td>\n",
       "      <td>1</td>\n",
       "      <td>4</td>\n",
       "      <td>7055052.0</td>\n",
       "    </tr>\n",
       "    <tr>\n",
       "      <th>...</th>\n",
       "      <td>...</td>\n",
       "      <td>...</td>\n",
       "      <td>...</td>\n",
       "      <td>...</td>\n",
       "      <td>...</td>\n",
       "      <td>...</td>\n",
       "      <td>...</td>\n",
       "      <td>...</td>\n",
       "      <td>...</td>\n",
       "      <td>...</td>\n",
       "      <td>...</td>\n",
       "      <td>...</td>\n",
       "      <td>...</td>\n",
       "      <td>...</td>\n",
       "    </tr>\n",
       "    <tr>\n",
       "      <th>9995</th>\n",
       "      <td>1726</td>\n",
       "      <td>1</td>\n",
       "      <td>5</td>\n",
       "      <td>73133</td>\n",
       "      <td>6</td>\n",
       "      <td>2009</td>\n",
       "      <td>0</td>\n",
       "      <td>1</td>\n",
       "      <td>9311</td>\n",
       "      <td>1698</td>\n",
       "      <td>218</td>\n",
       "      <td>0</td>\n",
       "      <td>4</td>\n",
       "      <td>176425.9</td>\n",
       "    </tr>\n",
       "    <tr>\n",
       "      <th>9996</th>\n",
       "      <td>44403</td>\n",
       "      <td>1</td>\n",
       "      <td>12</td>\n",
       "      <td>34606</td>\n",
       "      <td>4</td>\n",
       "      <td>1990</td>\n",
       "      <td>0</td>\n",
       "      <td>1</td>\n",
       "      <td>9061</td>\n",
       "      <td>1742</td>\n",
       "      <td>230</td>\n",
       "      <td>0</td>\n",
       "      <td>0</td>\n",
       "      <td>4448474.0</td>\n",
       "    </tr>\n",
       "    <tr>\n",
       "      <th>9997</th>\n",
       "      <td>83841</td>\n",
       "      <td>0</td>\n",
       "      <td>69</td>\n",
       "      <td>80933</td>\n",
       "      <td>10</td>\n",
       "      <td>2005</td>\n",
       "      <td>1</td>\n",
       "      <td>1</td>\n",
       "      <td>8304</td>\n",
       "      <td>7730</td>\n",
       "      <td>345</td>\n",
       "      <td>1</td>\n",
       "      <td>9</td>\n",
       "      <td>8390030.5</td>\n",
       "    </tr>\n",
       "    <tr>\n",
       "      <th>9998</th>\n",
       "      <td>59036</td>\n",
       "      <td>0</td>\n",
       "      <td>96</td>\n",
       "      <td>55856</td>\n",
       "      <td>3</td>\n",
       "      <td>2010</td>\n",
       "      <td>0</td>\n",
       "      <td>1</td>\n",
       "      <td>2590</td>\n",
       "      <td>6174</td>\n",
       "      <td>339</td>\n",
       "      <td>1</td>\n",
       "      <td>4</td>\n",
       "      <td>5905107.0</td>\n",
       "    </tr>\n",
       "    <tr>\n",
       "      <th>9999</th>\n",
       "      <td>1440</td>\n",
       "      <td>0</td>\n",
       "      <td>49</td>\n",
       "      <td>18412</td>\n",
       "      <td>10</td>\n",
       "      <td>1994</td>\n",
       "      <td>1</td>\n",
       "      <td>0</td>\n",
       "      <td>8485</td>\n",
       "      <td>2024</td>\n",
       "      <td>278</td>\n",
       "      <td>1</td>\n",
       "      <td>6</td>\n",
       "      <td>146708.4</td>\n",
       "    </tr>\n",
       "  </tbody>\n",
       "</table></div>"
      ],
      "text/plain": [
       "      squareMeters  hasPool  floors  cityCode  numPrevOwners  made  \\\n",
       "0            75523        1      63      9373              8  2005   \n",
       "1            80771        1      98     39381              6  2015   \n",
       "2            55712        1      19     34457              8  2021   \n",
       "3            32316        0       6     27939              4  2012   \n",
       "4            70429        1      90     38045              7  1990   \n",
       "...            ...      ...     ...       ...            ...   ...   \n",
       "9995          1726        1       5     73133              6  2009   \n",
       "9996         44403        1      12     34606              4  1990   \n",
       "9997         83841        0      69     80933             10  2005   \n",
       "9998         59036        0      96     55856              3  2010   \n",
       "9999          1440        0      49     18412             10  1994   \n",
       "\n",
       "      isNewBuilt  hasStormProtector  basement  attic  garage  hasStorageRoom  \\\n",
       "0              0                  1      4313   9005     956               0   \n",
       "1              1                  0      3653   2436     128               1   \n",
       "2              0                  0      2937   8852     135               1   \n",
       "3              0                  1       659   7141     359               0   \n",
       "4              1                  0      8435   2429     292               1   \n",
       "...          ...                ...       ...    ...     ...             ...   \n",
       "9995           0                  1      9311   1698     218               0   \n",
       "9996           0                  1      9061   1742     230               0   \n",
       "9997           1                  1      8304   7730     345               1   \n",
       "9998           0                  1      2590   6174     339               1   \n",
       "9999           1                  0      8485   2024     278               1   \n",
       "\n",
       "      hasGuestRoom      price  \n",
       "0                7  7559081.5  \n",
       "1                2  8085989.5  \n",
       "2                9  5574642.1  \n",
       "3                3  3232561.2  \n",
       "4                4  7055052.0  \n",
       "...            ...        ...  \n",
       "9995             4   176425.9  \n",
       "9996             0  4448474.0  \n",
       "9997             9  8390030.5  \n",
       "9998             4  5905107.0  \n",
       "9999             6   146708.4  \n",
       "\n",
       "[10000 rows x 14 columns]"
      ]
     },
     "execution_count": 129,
     "metadata": {},
     "output_type": "execute_result"
    }
   ],
   "source": [
    "x = df.drop(columns = [\"numberOfRooms\", \"cityPartRange\", \"hasYard\"], axis = 1)\n",
    "x"
   ]
  },
  {
   "cell_type": "code",
   "execution_count": 130,
   "id": "6e48a076-e231-4f12-89fa-1383aeae8b81",
   "metadata": {},
   "outputs": [],
   "source": [
    "import numpy as np"
   ]
  },
  {
   "cell_type": "code",
   "execution_count": 131,
   "id": "15ae7d38-f6f9-4627-a1c6-545a343f8750",
   "metadata": {},
   "outputs": [],
   "source": [
    "from sklearn.model_selection import train_test_split"
   ]
  },
  {
   "cell_type": "code",
   "execution_count": 132,
   "id": "6eb1c2a8-4613-4236-9f4c-8cd9b1a8f4bb",
   "metadata": {},
   "outputs": [],
   "source": [
    "from sklearn import preprocessing\n"
   ]
  },
  {
   "cell_type": "code",
   "execution_count": 133,
   "id": "33d4ee9b-d5f7-466f-9e55-a6e2b0f682f4",
   "metadata": {},
   "outputs": [],
   "source": [
    "# y_train, x_test, y_train, y_test = train_test_split(x, y, test_size =0.20, random_state = 45)\n",
    "# X_train_, X_val, y_train_, y_val = train_test_split(X_train, y_train, test_size =.25, random_state = 1)\n",
    "x_train, x_test, y_train, y_test = train_test_split(x, y, test_size = 0.20, random_state = 45)\n"
   ]
  },
  {
   "cell_type": "code",
   "execution_count": null,
   "id": "ca7493fd-b496-4f67-bb6e-feb11668b5c4",
   "metadata": {},
   "outputs": [],
   "source": []
  },
  {
   "cell_type": "code",
   "execution_count": 134,
   "id": "9248d85b-f4fa-4045-a67b-16aa644c2b20",
   "metadata": {},
   "outputs": [],
   "source": [
    "from sklearn.preprocessing import StandardScaler, MinMaxScaler\n",
    "normalize = MinMaxScaler()\n"
   ]
  },
  {
   "cell_type": "code",
   "execution_count": 135,
   "id": "965c69a3-417d-4357-beb9-f43f8aacb154",
   "metadata": {},
   "outputs": [
    {
     "data": {
      "text/plain": [
       "4643    5994256.8\n",
       "2390    9926523.4\n",
       "6162    2765641.9\n",
       "8678    3460379.3\n",
       "6944    2455081.4\n",
       "          ...    \n",
       "8772    8123187.0\n",
       "163     3412619.3\n",
       "6012    4307230.6\n",
       "6558     163475.6\n",
       "7115     923138.8\n",
       "Name: price, Length: 8000, dtype: float64"
      ]
     },
     "execution_count": 135,
     "metadata": {},
     "output_type": "execute_result"
    }
   ],
   "source": [
    "y_train"
   ]
  },
  {
   "cell_type": "code",
   "execution_count": 136,
   "id": "a0f4812b-ce2a-48b4-9da7-9e99b8dd4642",
   "metadata": {},
   "outputs": [
    {
     "data": {
      "text/html": [
       "<div><div id=b8f6e7de-bd75-4255-aa20-d8b92429b280 style=\"display:none; background-color:#9D6CFF; color:white; width:200px; height:30px; padding-left:5px; border-radius:4px; flex-direction:row; justify-content:space-around; align-items:center;\" onmouseover=\"this.style.backgroundColor='#BA9BF8'\" onmouseout=\"this.style.backgroundColor='#9D6CFF'\" onclick=\"window.commands?.execute('create-mitosheet-from-dataframe-output');\">See Full Dataframe in Mito</div> <script> if (window.commands.hasCommand('create-mitosheet-from-dataframe-output')) document.getElementById('b8f6e7de-bd75-4255-aa20-d8b92429b280').style.display = 'flex' </script> <table border=\"1\" class=\"dataframe\">\n",
       "  <thead>\n",
       "    <tr style=\"text-align: right;\">\n",
       "      <th></th>\n",
       "      <th>0</th>\n",
       "      <th>1</th>\n",
       "      <th>2</th>\n",
       "      <th>3</th>\n",
       "      <th>4</th>\n",
       "      <th>5</th>\n",
       "      <th>6</th>\n",
       "      <th>7</th>\n",
       "      <th>8</th>\n",
       "      <th>9</th>\n",
       "      <th>10</th>\n",
       "      <th>11</th>\n",
       "      <th>12</th>\n",
       "      <th>13</th>\n",
       "    </tr>\n",
       "  </thead>\n",
       "  <tbody>\n",
       "    <tr>\n",
       "      <th>0</th>\n",
       "      <td>0.598639</td>\n",
       "      <td>0.0</td>\n",
       "      <td>0.606061</td>\n",
       "      <td>0.948014</td>\n",
       "      <td>1.000000</td>\n",
       "      <td>0.903226</td>\n",
       "      <td>1.0</td>\n",
       "      <td>1.0</td>\n",
       "      <td>0.6126</td>\n",
       "      <td>0.238424</td>\n",
       "      <td>0.218889</td>\n",
       "      <td>0.0</td>\n",
       "      <td>0.0</td>\n",
       "      <td>0.598606</td>\n",
       "    </tr>\n",
       "    <tr>\n",
       "      <th>1</th>\n",
       "      <td>0.991773</td>\n",
       "      <td>0.0</td>\n",
       "      <td>0.565657</td>\n",
       "      <td>0.022741</td>\n",
       "      <td>0.111111</td>\n",
       "      <td>0.451613</td>\n",
       "      <td>0.0</td>\n",
       "      <td>1.0</td>\n",
       "      <td>0.9729</td>\n",
       "      <td>0.636164</td>\n",
       "      <td>0.336667</td>\n",
       "      <td>1.0</td>\n",
       "      <td>0.9</td>\n",
       "      <td>0.991972</td>\n",
       "    </tr>\n",
       "    <tr>\n",
       "      <th>2</th>\n",
       "      <td>0.275048</td>\n",
       "      <td>1.0</td>\n",
       "      <td>0.686869</td>\n",
       "      <td>0.753977</td>\n",
       "      <td>0.777778</td>\n",
       "      <td>0.290323</td>\n",
       "      <td>1.0</td>\n",
       "      <td>1.0</td>\n",
       "      <td>0.3855</td>\n",
       "      <td>0.632463</td>\n",
       "      <td>0.448889</td>\n",
       "      <td>0.0</td>\n",
       "      <td>0.0</td>\n",
       "      <td>0.275630</td>\n",
       "    </tr>\n",
       "    <tr>\n",
       "      <th>3</th>\n",
       "      <td>0.344270</td>\n",
       "      <td>1.0</td>\n",
       "      <td>0.828283</td>\n",
       "      <td>0.981871</td>\n",
       "      <td>0.555556</td>\n",
       "      <td>0.096774</td>\n",
       "      <td>1.0</td>\n",
       "      <td>1.0</td>\n",
       "      <td>0.0347</td>\n",
       "      <td>0.579058</td>\n",
       "      <td>0.496667</td>\n",
       "      <td>1.0</td>\n",
       "      <td>0.6</td>\n",
       "      <td>0.345129</td>\n",
       "    </tr>\n",
       "    <tr>\n",
       "      <th>4</th>\n",
       "      <td>0.244700</td>\n",
       "      <td>0.0</td>\n",
       "      <td>0.202020</td>\n",
       "      <td>0.407744</td>\n",
       "      <td>0.666667</td>\n",
       "      <td>0.129032</td>\n",
       "      <td>0.0</td>\n",
       "      <td>0.0</td>\n",
       "      <td>0.6984</td>\n",
       "      <td>0.142114</td>\n",
       "      <td>0.038889</td>\n",
       "      <td>1.0</td>\n",
       "      <td>0.0</td>\n",
       "      <td>0.244563</td>\n",
       "    </tr>\n",
       "    <tr>\n",
       "      <th>...</th>\n",
       "      <td>...</td>\n",
       "      <td>...</td>\n",
       "      <td>...</td>\n",
       "      <td>...</td>\n",
       "      <td>...</td>\n",
       "      <td>...</td>\n",
       "      <td>...</td>\n",
       "      <td>...</td>\n",
       "      <td>...</td>\n",
       "      <td>...</td>\n",
       "      <td>...</td>\n",
       "      <td>...</td>\n",
       "      <td>...</td>\n",
       "      <td>...</td>\n",
       "    </tr>\n",
       "    <tr>\n",
       "      <th>7995</th>\n",
       "      <td>0.811550</td>\n",
       "      <td>1.0</td>\n",
       "      <td>0.090909</td>\n",
       "      <td>0.544452</td>\n",
       "      <td>1.000000</td>\n",
       "      <td>0.967742</td>\n",
       "      <td>1.0</td>\n",
       "      <td>0.0</td>\n",
       "      <td>0.9872</td>\n",
       "      <td>0.482248</td>\n",
       "      <td>0.321111</td>\n",
       "      <td>1.0</td>\n",
       "      <td>0.6</td>\n",
       "      <td>0.811575</td>\n",
       "    </tr>\n",
       "    <tr>\n",
       "      <th>7996</th>\n",
       "      <td>0.340006</td>\n",
       "      <td>0.0</td>\n",
       "      <td>0.898990</td>\n",
       "      <td>0.635178</td>\n",
       "      <td>0.777778</td>\n",
       "      <td>0.096774</td>\n",
       "      <td>0.0</td>\n",
       "      <td>1.0</td>\n",
       "      <td>0.4138</td>\n",
       "      <td>0.533653</td>\n",
       "      <td>0.274444</td>\n",
       "      <td>0.0</td>\n",
       "      <td>0.2</td>\n",
       "      <td>0.340351</td>\n",
       "    </tr>\n",
       "    <tr>\n",
       "      <th>7997</th>\n",
       "      <td>0.429877</td>\n",
       "      <td>0.0</td>\n",
       "      <td>0.616162</td>\n",
       "      <td>0.522761</td>\n",
       "      <td>0.555556</td>\n",
       "      <td>0.193548</td>\n",
       "      <td>1.0</td>\n",
       "      <td>1.0</td>\n",
       "      <td>0.3011</td>\n",
       "      <td>0.819582</td>\n",
       "      <td>0.764444</td>\n",
       "      <td>0.0</td>\n",
       "      <td>0.1</td>\n",
       "      <td>0.429844</td>\n",
       "    </tr>\n",
       "    <tr>\n",
       "      <th>7998</th>\n",
       "      <td>0.014873</td>\n",
       "      <td>1.0</td>\n",
       "      <td>0.161616</td>\n",
       "      <td>0.898879</td>\n",
       "      <td>0.777778</td>\n",
       "      <td>0.838710</td>\n",
       "      <td>0.0</td>\n",
       "      <td>0.0</td>\n",
       "      <td>0.5798</td>\n",
       "      <td>0.254725</td>\n",
       "      <td>0.196667</td>\n",
       "      <td>0.0</td>\n",
       "      <td>0.5</td>\n",
       "      <td>0.015322</td>\n",
       "    </tr>\n",
       "    <tr>\n",
       "      <th>7999</th>\n",
       "      <td>0.091122</td>\n",
       "      <td>0.0</td>\n",
       "      <td>0.303030</td>\n",
       "      <td>0.278779</td>\n",
       "      <td>0.333333</td>\n",
       "      <td>0.903226</td>\n",
       "      <td>0.0</td>\n",
       "      <td>0.0</td>\n",
       "      <td>0.4946</td>\n",
       "      <td>0.889789</td>\n",
       "      <td>0.012222</td>\n",
       "      <td>1.0</td>\n",
       "      <td>0.7</td>\n",
       "      <td>0.091315</td>\n",
       "    </tr>\n",
       "  </tbody>\n",
       "</table></div>"
      ],
      "text/plain": [
       "            0    1         2         3         4         5    6    7       8   \\\n",
       "0     0.598639  0.0  0.606061  0.948014  1.000000  0.903226  1.0  1.0  0.6126   \n",
       "1     0.991773  0.0  0.565657  0.022741  0.111111  0.451613  0.0  1.0  0.9729   \n",
       "2     0.275048  1.0  0.686869  0.753977  0.777778  0.290323  1.0  1.0  0.3855   \n",
       "3     0.344270  1.0  0.828283  0.981871  0.555556  0.096774  1.0  1.0  0.0347   \n",
       "4     0.244700  0.0  0.202020  0.407744  0.666667  0.129032  0.0  0.0  0.6984   \n",
       "...        ...  ...       ...       ...       ...       ...  ...  ...     ...   \n",
       "7995  0.811550  1.0  0.090909  0.544452  1.000000  0.967742  1.0  0.0  0.9872   \n",
       "7996  0.340006  0.0  0.898990  0.635178  0.777778  0.096774  0.0  1.0  0.4138   \n",
       "7997  0.429877  0.0  0.616162  0.522761  0.555556  0.193548  1.0  1.0  0.3011   \n",
       "7998  0.014873  1.0  0.161616  0.898879  0.777778  0.838710  0.0  0.0  0.5798   \n",
       "7999  0.091122  0.0  0.303030  0.278779  0.333333  0.903226  0.0  0.0  0.4946   \n",
       "\n",
       "            9         10   11   12        13  \n",
       "0     0.238424  0.218889  0.0  0.0  0.598606  \n",
       "1     0.636164  0.336667  1.0  0.9  0.991972  \n",
       "2     0.632463  0.448889  0.0  0.0  0.275630  \n",
       "3     0.579058  0.496667  1.0  0.6  0.345129  \n",
       "4     0.142114  0.038889  1.0  0.0  0.244563  \n",
       "...        ...       ...  ...  ...       ...  \n",
       "7995  0.482248  0.321111  1.0  0.6  0.811575  \n",
       "7996  0.533653  0.274444  0.0  0.2  0.340351  \n",
       "7997  0.819582  0.764444  0.0  0.1  0.429844  \n",
       "7998  0.254725  0.196667  0.0  0.5  0.015322  \n",
       "7999  0.889789  0.012222  1.0  0.7  0.091315  \n",
       "\n",
       "[8000 rows x 14 columns]"
      ]
     },
     "execution_count": 136,
     "metadata": {},
     "output_type": "execute_result"
    }
   ],
   "source": [
    "normalized_x_trained = pd.DataFrame(normalize.fit_transform(x_train))\n",
    "normalized_x_trained"
   ]
  },
  {
   "cell_type": "code",
   "execution_count": 137,
   "id": "f19aa584-c19c-4833-8e1e-ec59173e8e9e",
   "metadata": {},
   "outputs": [
    {
     "data": {
      "application/vnd.jupyter.widget-view+json": {
       "model_id": "0d44ae8d16794913ae28a3f1b74998ca",
       "version_major": 2,
       "version_minor": 0
      },
      "text/plain": [
       "MitoWidget(analysis_data_json='{\"analysisName\": \"UUID-09ad147b-9348-44d7-b15b-2c496555a2b5\", \"code\": {\"imports…"
      ]
     },
     "metadata": {},
     "output_type": "display_data"
    }
   ],
   "source": [
    "import mitosheet\n",
    "mitosheet.sheet(normalized_x_trained, view_df=True)"
   ]
  },
  {
   "cell_type": "code",
   "execution_count": 138,
   "id": "571b99bf-43c8-4dae-85fa-d6b71dfb4f6e",
   "metadata": {
    "tags": []
   },
   "outputs": [
    {
     "data": {
      "text/plain": [
       "(6000, 14)"
      ]
     },
     "execution_count": 138,
     "metadata": {},
     "output_type": "execute_result"
    }
   ],
   "source": [
    "x_vtrain_train, x_vtrain_test, y_vtrain_train, y_vtrain_test  = train_test_split(normalized_x_trained, y_train, test_size = 0.25, random_state = 45) #for the validation\n",
    "x_vtrain_train.shape"
   ]
  },
  {
   "cell_type": "code",
   "execution_count": 139,
   "id": "1ad98402-44fc-4d42-93c4-90799558c90c",
   "metadata": {},
   "outputs": [
    {
     "data": {
      "text/plain": [
       "(6000,)"
      ]
     },
     "execution_count": 139,
     "metadata": {},
     "output_type": "execute_result"
    }
   ],
   "source": [
    "y_vtrain_train.shape"
   ]
  },
  {
   "cell_type": "code",
   "execution_count": 140,
   "id": "0b391aa5-530a-419b-8176-302a7a854e79",
   "metadata": {},
   "outputs": [
    {
     "data": {
      "text/html": [
       "<div><div id=5311e9d4-07f0-44fe-b4ad-94ffbd0d7b82 style=\"display:none; background-color:#9D6CFF; color:white; width:200px; height:30px; padding-left:5px; border-radius:4px; flex-direction:row; justify-content:space-around; align-items:center;\" onmouseover=\"this.style.backgroundColor='#BA9BF8'\" onmouseout=\"this.style.backgroundColor='#9D6CFF'\" onclick=\"window.commands?.execute('create-mitosheet-from-dataframe-output');\">See Full Dataframe in Mito</div> <script> if (window.commands.hasCommand('create-mitosheet-from-dataframe-output')) document.getElementById('5311e9d4-07f0-44fe-b4ad-94ffbd0d7b82').style.display = 'flex' </script> <table border=\"1\" class=\"dataframe\">\n",
       "  <thead>\n",
       "    <tr style=\"text-align: right;\">\n",
       "      <th></th>\n",
       "      <th>squareMeters</th>\n",
       "      <th>numberOfRooms</th>\n",
       "      <th>hasYard</th>\n",
       "      <th>hasPool</th>\n",
       "      <th>floors</th>\n",
       "      <th>cityCode</th>\n",
       "      <th>cityPartRange</th>\n",
       "      <th>numPrevOwners</th>\n",
       "      <th>made</th>\n",
       "      <th>isNewBuilt</th>\n",
       "      <th>hasStormProtector</th>\n",
       "      <th>basement</th>\n",
       "      <th>attic</th>\n",
       "      <th>garage</th>\n",
       "      <th>hasStorageRoom</th>\n",
       "      <th>hasGuestRoom</th>\n",
       "      <th>price</th>\n",
       "    </tr>\n",
       "  </thead>\n",
       "  <tbody>\n",
       "    <tr>\n",
       "      <th>0</th>\n",
       "      <td>75523</td>\n",
       "      <td>3</td>\n",
       "      <td>0</td>\n",
       "      <td>1</td>\n",
       "      <td>63</td>\n",
       "      <td>9373</td>\n",
       "      <td>3</td>\n",
       "      <td>8</td>\n",
       "      <td>2005</td>\n",
       "      <td>0</td>\n",
       "      <td>1</td>\n",
       "      <td>4313</td>\n",
       "      <td>9005</td>\n",
       "      <td>956</td>\n",
       "      <td>0</td>\n",
       "      <td>7</td>\n",
       "      <td>7559081.5</td>\n",
       "    </tr>\n",
       "    <tr>\n",
       "      <th>1</th>\n",
       "      <td>80771</td>\n",
       "      <td>39</td>\n",
       "      <td>1</td>\n",
       "      <td>1</td>\n",
       "      <td>98</td>\n",
       "      <td>39381</td>\n",
       "      <td>8</td>\n",
       "      <td>6</td>\n",
       "      <td>2015</td>\n",
       "      <td>1</td>\n",
       "      <td>0</td>\n",
       "      <td>3653</td>\n",
       "      <td>2436</td>\n",
       "      <td>128</td>\n",
       "      <td>1</td>\n",
       "      <td>2</td>\n",
       "      <td>8085989.5</td>\n",
       "    </tr>\n",
       "    <tr>\n",
       "      <th>2</th>\n",
       "      <td>55712</td>\n",
       "      <td>58</td>\n",
       "      <td>0</td>\n",
       "      <td>1</td>\n",
       "      <td>19</td>\n",
       "      <td>34457</td>\n",
       "      <td>6</td>\n",
       "      <td>8</td>\n",
       "      <td>2021</td>\n",
       "      <td>0</td>\n",
       "      <td>0</td>\n",
       "      <td>2937</td>\n",
       "      <td>8852</td>\n",
       "      <td>135</td>\n",
       "      <td>1</td>\n",
       "      <td>9</td>\n",
       "      <td>5574642.1</td>\n",
       "    </tr>\n",
       "    <tr>\n",
       "      <th>3</th>\n",
       "      <td>32316</td>\n",
       "      <td>47</td>\n",
       "      <td>0</td>\n",
       "      <td>0</td>\n",
       "      <td>6</td>\n",
       "      <td>27939</td>\n",
       "      <td>10</td>\n",
       "      <td>4</td>\n",
       "      <td>2012</td>\n",
       "      <td>0</td>\n",
       "      <td>1</td>\n",
       "      <td>659</td>\n",
       "      <td>7141</td>\n",
       "      <td>359</td>\n",
       "      <td>0</td>\n",
       "      <td>3</td>\n",
       "      <td>3232561.2</td>\n",
       "    </tr>\n",
       "    <tr>\n",
       "      <th>4</th>\n",
       "      <td>70429</td>\n",
       "      <td>19</td>\n",
       "      <td>1</td>\n",
       "      <td>1</td>\n",
       "      <td>90</td>\n",
       "      <td>38045</td>\n",
       "      <td>3</td>\n",
       "      <td>7</td>\n",
       "      <td>1990</td>\n",
       "      <td>1</td>\n",
       "      <td>0</td>\n",
       "      <td>8435</td>\n",
       "      <td>2429</td>\n",
       "      <td>292</td>\n",
       "      <td>1</td>\n",
       "      <td>4</td>\n",
       "      <td>7055052.0</td>\n",
       "    </tr>\n",
       "    <tr>\n",
       "      <th>...</th>\n",
       "      <td>...</td>\n",
       "      <td>...</td>\n",
       "      <td>...</td>\n",
       "      <td>...</td>\n",
       "      <td>...</td>\n",
       "      <td>...</td>\n",
       "      <td>...</td>\n",
       "      <td>...</td>\n",
       "      <td>...</td>\n",
       "      <td>...</td>\n",
       "      <td>...</td>\n",
       "      <td>...</td>\n",
       "      <td>...</td>\n",
       "      <td>...</td>\n",
       "      <td>...</td>\n",
       "      <td>...</td>\n",
       "      <td>...</td>\n",
       "    </tr>\n",
       "    <tr>\n",
       "      <th>9995</th>\n",
       "      <td>1726</td>\n",
       "      <td>89</td>\n",
       "      <td>0</td>\n",
       "      <td>1</td>\n",
       "      <td>5</td>\n",
       "      <td>73133</td>\n",
       "      <td>7</td>\n",
       "      <td>6</td>\n",
       "      <td>2009</td>\n",
       "      <td>0</td>\n",
       "      <td>1</td>\n",
       "      <td>9311</td>\n",
       "      <td>1698</td>\n",
       "      <td>218</td>\n",
       "      <td>0</td>\n",
       "      <td>4</td>\n",
       "      <td>176425.9</td>\n",
       "    </tr>\n",
       "    <tr>\n",
       "      <th>9996</th>\n",
       "      <td>44403</td>\n",
       "      <td>29</td>\n",
       "      <td>1</td>\n",
       "      <td>1</td>\n",
       "      <td>12</td>\n",
       "      <td>34606</td>\n",
       "      <td>9</td>\n",
       "      <td>4</td>\n",
       "      <td>1990</td>\n",
       "      <td>0</td>\n",
       "      <td>1</td>\n",
       "      <td>9061</td>\n",
       "      <td>1742</td>\n",
       "      <td>230</td>\n",
       "      <td>0</td>\n",
       "      <td>0</td>\n",
       "      <td>4448474.0</td>\n",
       "    </tr>\n",
       "    <tr>\n",
       "      <th>9997</th>\n",
       "      <td>83841</td>\n",
       "      <td>3</td>\n",
       "      <td>0</td>\n",
       "      <td>0</td>\n",
       "      <td>69</td>\n",
       "      <td>80933</td>\n",
       "      <td>10</td>\n",
       "      <td>10</td>\n",
       "      <td>2005</td>\n",
       "      <td>1</td>\n",
       "      <td>1</td>\n",
       "      <td>8304</td>\n",
       "      <td>7730</td>\n",
       "      <td>345</td>\n",
       "      <td>1</td>\n",
       "      <td>9</td>\n",
       "      <td>8390030.5</td>\n",
       "    </tr>\n",
       "    <tr>\n",
       "      <th>9998</th>\n",
       "      <td>59036</td>\n",
       "      <td>70</td>\n",
       "      <td>0</td>\n",
       "      <td>0</td>\n",
       "      <td>96</td>\n",
       "      <td>55856</td>\n",
       "      <td>1</td>\n",
       "      <td>3</td>\n",
       "      <td>2010</td>\n",
       "      <td>0</td>\n",
       "      <td>1</td>\n",
       "      <td>2590</td>\n",
       "      <td>6174</td>\n",
       "      <td>339</td>\n",
       "      <td>1</td>\n",
       "      <td>4</td>\n",
       "      <td>5905107.0</td>\n",
       "    </tr>\n",
       "    <tr>\n",
       "      <th>9999</th>\n",
       "      <td>1440</td>\n",
       "      <td>84</td>\n",
       "      <td>0</td>\n",
       "      <td>0</td>\n",
       "      <td>49</td>\n",
       "      <td>18412</td>\n",
       "      <td>6</td>\n",
       "      <td>10</td>\n",
       "      <td>1994</td>\n",
       "      <td>1</td>\n",
       "      <td>0</td>\n",
       "      <td>8485</td>\n",
       "      <td>2024</td>\n",
       "      <td>278</td>\n",
       "      <td>1</td>\n",
       "      <td>6</td>\n",
       "      <td>146708.4</td>\n",
       "    </tr>\n",
       "  </tbody>\n",
       "</table></div>"
      ],
      "text/plain": [
       "      squareMeters  numberOfRooms  hasYard  hasPool  floors  cityCode  \\\n",
       "0            75523              3        0        1      63      9373   \n",
       "1            80771             39        1        1      98     39381   \n",
       "2            55712             58        0        1      19     34457   \n",
       "3            32316             47        0        0       6     27939   \n",
       "4            70429             19        1        1      90     38045   \n",
       "...            ...            ...      ...      ...     ...       ...   \n",
       "9995          1726             89        0        1       5     73133   \n",
       "9996         44403             29        1        1      12     34606   \n",
       "9997         83841              3        0        0      69     80933   \n",
       "9998         59036             70        0        0      96     55856   \n",
       "9999          1440             84        0        0      49     18412   \n",
       "\n",
       "      cityPartRange  numPrevOwners  made  isNewBuilt  hasStormProtector  \\\n",
       "0                 3              8  2005           0                  1   \n",
       "1                 8              6  2015           1                  0   \n",
       "2                 6              8  2021           0                  0   \n",
       "3                10              4  2012           0                  1   \n",
       "4                 3              7  1990           1                  0   \n",
       "...             ...            ...   ...         ...                ...   \n",
       "9995              7              6  2009           0                  1   \n",
       "9996              9              4  1990           0                  1   \n",
       "9997             10             10  2005           1                  1   \n",
       "9998              1              3  2010           0                  1   \n",
       "9999              6             10  1994           1                  0   \n",
       "\n",
       "      basement  attic  garage  hasStorageRoom  hasGuestRoom      price  \n",
       "0         4313   9005     956               0             7  7559081.5  \n",
       "1         3653   2436     128               1             2  8085989.5  \n",
       "2         2937   8852     135               1             9  5574642.1  \n",
       "3          659   7141     359               0             3  3232561.2  \n",
       "4         8435   2429     292               1             4  7055052.0  \n",
       "...        ...    ...     ...             ...           ...        ...  \n",
       "9995      9311   1698     218               0             4   176425.9  \n",
       "9996      9061   1742     230               0             0  4448474.0  \n",
       "9997      8304   7730     345               1             9  8390030.5  \n",
       "9998      2590   6174     339               1             4  5905107.0  \n",
       "9999      8485   2024     278               1             6   146708.4  \n",
       "\n",
       "[10000 rows x 17 columns]"
      ]
     },
     "execution_count": 140,
     "metadata": {},
     "output_type": "execute_result"
    }
   ],
   "source": [
    "df"
   ]
  },
  {
   "cell_type": "code",
   "execution_count": 141,
   "id": "8bb5f32f-fe21-40fa-b5fb-33555d0f8824",
   "metadata": {},
   "outputs": [
    {
     "data": {
      "text/plain": [
       "RandomForestRegressor(max_depth=4, random_state=1)"
      ]
     },
     "execution_count": 141,
     "metadata": {},
     "output_type": "execute_result"
    }
   ],
   "source": [
    "from sklearn.ensemble import RandomForestRegressor\n",
    "model = RandomForestRegressor(random_state =1, max_depth = 4)\n",
    "model.fit(normalized_x_trained, y_train)"
   ]
  },
  {
   "cell_type": "code",
   "execution_count": 142,
   "id": "2f834452-5175-4a92-9764-6bdc2135b3d7",
   "metadata": {},
   "outputs": [
    {
     "data": {
      "text/plain": [
       "<function matplotlib.pyplot.show(close=None, block=None)>"
      ]
     },
     "execution_count": 142,
     "metadata": {},
     "output_type": "execute_result"
    },
    {
     "data": {
      "image/png": "[encoded data removed]",
      "text/plain": [
       "<Figure size 432x288 with 1 Axes>"
      ]
     },
     "metadata": {
      "needs_background": "light"
     },
     "output_type": "display_data"
    }
   ],
   "source": [
    "#Get feature importance variables\n",
    "\n",
    "features = df.columns\n",
    "importances = model.feature_importances_\n",
    "indices = np.argsort(importances)[-14:]\n",
    "plt.title('Feature Importances')\n",
    "plt.barh(range(len(indices)), importances[indices], color = \"b\", align = \"center\")\n",
    "plt.yticks(range(len(indices)), [features[i] for i in indices])\n",
    "plt.xlabel(\"Realtive importance\")\n",
    "plt.show"
   ]
  },
  {
   "cell_type": "code",
   "execution_count": 143,
   "id": "16afa720-d700-45db-a74b-632906b43c43",
   "metadata": {},
   "outputs": [
    {
     "data": {
      "text/html": [
       "<div><div id=142ff252-c897-4cf3-b2ab-b144a0449bc1 style=\"display:none; background-color:#9D6CFF; color:white; width:200px; height:30px; padding-left:5px; border-radius:4px; flex-direction:row; justify-content:space-around; align-items:center;\" onmouseover=\"this.style.backgroundColor='#BA9BF8'\" onmouseout=\"this.style.backgroundColor='#9D6CFF'\" onclick=\"window.commands?.execute('create-mitosheet-from-dataframe-output');\">See Full Dataframe in Mito</div> <script> if (window.commands.hasCommand('create-mitosheet-from-dataframe-output')) document.getElementById('142ff252-c897-4cf3-b2ab-b144a0449bc1').style.display = 'flex' </script> <table border=\"1\" class=\"dataframe\">\n",
       "  <thead>\n",
       "    <tr style=\"text-align: right;\">\n",
       "      <th></th>\n",
       "      <th>squareMeters</th>\n",
       "      <th>garage</th>\n",
       "    </tr>\n",
       "  </thead>\n",
       "  <tbody>\n",
       "    <tr>\n",
       "      <th>0</th>\n",
       "      <td>75523</td>\n",
       "      <td>956</td>\n",
       "    </tr>\n",
       "    <tr>\n",
       "      <th>1</th>\n",
       "      <td>80771</td>\n",
       "      <td>128</td>\n",
       "    </tr>\n",
       "    <tr>\n",
       "      <th>2</th>\n",
       "      <td>55712</td>\n",
       "      <td>135</td>\n",
       "    </tr>\n",
       "    <tr>\n",
       "      <th>3</th>\n",
       "      <td>32316</td>\n",
       "      <td>359</td>\n",
       "    </tr>\n",
       "    <tr>\n",
       "      <th>4</th>\n",
       "      <td>70429</td>\n",
       "      <td>292</td>\n",
       "    </tr>\n",
       "    <tr>\n",
       "      <th>...</th>\n",
       "      <td>...</td>\n",
       "      <td>...</td>\n",
       "    </tr>\n",
       "    <tr>\n",
       "      <th>9995</th>\n",
       "      <td>1726</td>\n",
       "      <td>218</td>\n",
       "    </tr>\n",
       "    <tr>\n",
       "      <th>9996</th>\n",
       "      <td>44403</td>\n",
       "      <td>230</td>\n",
       "    </tr>\n",
       "    <tr>\n",
       "      <th>9997</th>\n",
       "      <td>83841</td>\n",
       "      <td>345</td>\n",
       "    </tr>\n",
       "    <tr>\n",
       "      <th>9998</th>\n",
       "      <td>59036</td>\n",
       "      <td>339</td>\n",
       "    </tr>\n",
       "    <tr>\n",
       "      <th>9999</th>\n",
       "      <td>1440</td>\n",
       "      <td>278</td>\n",
       "    </tr>\n",
       "  </tbody>\n",
       "</table></div>"
      ],
      "text/plain": [
       "      squareMeters  garage\n",
       "0            75523     956\n",
       "1            80771     128\n",
       "2            55712     135\n",
       "3            32316     359\n",
       "4            70429     292\n",
       "...            ...     ...\n",
       "9995          1726     218\n",
       "9996         44403     230\n",
       "9997         83841     345\n",
       "9998         59036     339\n",
       "9999          1440     278\n",
       "\n",
       "[10000 rows x 2 columns]"
      ]
     },
     "execution_count": 143,
     "metadata": {},
     "output_type": "execute_result"
    }
   ],
   "source": [
    "new_df = df.drop(columns = ['numberOfRooms', 'hasYard', 'hasPool', 'floors',\n",
    "        'cityPartRange', 'numPrevOwners', 'made', 'isNewBuilt',\n",
    "       'hasStormProtector', 'basement', 'attic','hasStorageRoom', 'price','hasGuestRoom','cityCode'])\n",
    "new_df"
   ]
  },
  {
   "cell_type": "code",
   "execution_count": 144,
   "id": "2075598f-2ca9-4f56-87f0-ebf8c0f87632",
   "metadata": {},
   "outputs": [],
   "source": [
    "from sklearn.linear_model import LinearRegression"
   ]
  },
  {
   "cell_type": "code",
   "execution_count": 145,
   "id": "ddf668e8-b52b-454d-ab27-73b248103934",
   "metadata": {},
   "outputs": [],
   "source": [
    "model = LinearRegression()\n",
    "new_df = model.fit(normalized_x_trained, y_train)\n"
   ]
  },
  {
   "cell_type": "code",
   "execution_count": 146,
   "id": "0f12d073-3884-4c72-b1b0-dbe8870ba3ab",
   "metadata": {},
   "outputs": [
    {
     "data": {
      "text/plain": [
       "1.0"
      ]
     },
     "execution_count": 146,
     "metadata": {},
     "output_type": "execute_result"
    }
   ],
   "source": [
    "coef_deter = new_df.score(normalized_x_trained, y_train)\n",
    "coef_deter\n"
   ]
  },
  {
   "cell_type": "code",
   "execution_count": 147,
   "id": "9e24439a-b8ae-427f-b855-131abdf786e5",
   "metadata": {},
   "outputs": [
    {
     "data": {
      "text/plain": [
       "array([ 1.50841502e-07,  0.00000000e+00, -1.89174898e-10, -2.54658516e-10,\n",
       "       -1.45519152e-10,  3.85625754e-10, -1.16415322e-10, -1.45519152e-10,\n",
       "        4.03815648e-10,  5.09317033e-10, -6.40284270e-10, -5.31144906e-10,\n",
       "       -2.11002771e-09,  9.99645770e+06])"
      ]
     },
     "execution_count": 147,
     "metadata": {},
     "output_type": "execute_result"
    }
   ],
   "source": [
    "intercept = model.coef_\n",
    "intercept"
   ]
  },
  {
   "cell_type": "code",
   "execution_count": 148,
   "id": "a1eb33e7-98f9-48e6-9a27-edf6cdc80119",
   "metadata": {},
   "outputs": [
    {
     "data": {
      "text/plain": [
       "array([7073600.1, 4132922.1, 9843291.1, ...,  971236.8, 9072944.6,\n",
       "       2184961.9])"
      ]
     },
     "execution_count": 148,
     "metadata": {},
     "output_type": "execute_result"
    }
   ],
   "source": [
    "y_predict = new_df.predict(x_vtrain_test)\n",
    "y_predict"
   ]
  },
  {
   "cell_type": "code",
   "execution_count": 149,
   "id": "f85b9abe-90a4-42ce-b22a-265d37ad280d",
   "metadata": {},
   "outputs": [
    {
     "name": "stdout",
     "output_type": "stream",
     "text": [
      "MAE :  1.0245857993140818e-09\n",
      "MSE :  1.958230271527036e-18\n",
      "R2 score :  1.0\n"
     ]
    }
   ],
   "source": [
    "from sklearn.metrics import mean_absolute_error, mean_squared_error, r2_score\n",
    "print(\"MAE : \", mean_absolute_error(y_vtrain_test, y_predict))\n",
    "print(\"MSE : \", mean_squared_error(y_vtrain_test, y_predict))\n",
    "print(\"R2 score : \", r2_score(y_vtrain_test, y_predict))"
   ]
  },
  {
   "cell_type": "code",
   "execution_count": 152,
   "id": "80872f22-8774-49fe-a3d0-951c9a5bb415",
   "metadata": {},
   "outputs": [
    {
     "name": "stdout",
     "output_type": "stream",
     "text": [
      "(6000, 14)\n",
      "(6000,)\n"
     ]
    }
   ],
   "source": [
    "train_score = []\n",
    "test_score = []\n",
    "\n",
    "random_state = 10\n",
    "\n",
    "for i in range(random_state):\n",
    "    x_vtrain_train, x_vtrain_test, y_vtrain_train, y_vtrain_test  = train_test_split(normalized_x_trained, y_train, test_size = 0.25, random_state = 45) #for the validation\n",
    "\n",
    "    # x_train, x_test, y_train, y_test = train_test_split(x_val, y_val, test_size = 0.30, random_state = i)\n",
    "\n",
    "    linear_model = LinearRegression()\n",
    "    linear_model.fit(x_vtrain_train, y_vtrain_train)\n",
    "    \n",
    "    y_train_predict_mimax = linear_model.predict(x_vtrain_train)\n",
    "    y_test_predict_minmax = linear_model.predict(x_vtrain_test)\n",
    "    \n",
    "    train_score = np.append(train_score, r2_score(y_vtrain_train, y_train_predict_mimax))\n",
    "    test_score = np.append(test_score, r2_score(y_vtrain_test, y_test_predict_minmax))\n",
    "\n",
    "print(x_vtrain_train.shape)\n",
    "print(y_vtrain_train.shape)"
   ]
  },
  {
   "cell_type": "code",
   "execution_count": 188,
   "id": "6aad1ab6-569d-42f8-b23d-7d6396f0aa41",
   "metadata": {},
   "outputs": [
    {
     "data": {
      "text/plain": [
       "(2000, 14)"
      ]
     },
     "execution_count": 188,
     "metadata": {},
     "output_type": "execute_result"
    }
   ],
   "source": [
    "x_vtrain_test.shape"
   ]
  },
  {
   "cell_type": "code",
   "execution_count": 153,
   "id": "edfc8a90-6717-49f1-8745-62cdace481ca",
   "metadata": {},
   "outputs": [
    {
     "data": {
      "text/plain": [
       "array([1., 1., 1., 1., 1., 1., 1., 1., 1., 1.])"
      ]
     },
     "execution_count": 153,
     "metadata": {},
     "output_type": "execute_result"
    }
   ],
   "source": [
    "train_score"
   ]
  },
  {
   "cell_type": "code",
   "execution_count": 154,
   "id": "09b78361-4d73-4ada-bd15-5fd03fbc752f",
   "metadata": {},
   "outputs": [
    {
     "data": {
      "text/plain": [
       "array([1., 1., 1., 1., 1., 1., 1., 1., 1., 1.])"
      ]
     },
     "execution_count": 154,
     "metadata": {},
     "output_type": "execute_result"
    }
   ],
   "source": [
    "test_score"
   ]
  },
  {
   "cell_type": "code",
   "execution_count": 155,
   "id": "c19b506e-604b-4a53-8cc8-19bcd834243f",
   "metadata": {},
   "outputs": [
    {
     "name": "stdout",
     "output_type": "stream",
     "text": [
      "R2 train: 1.00 +/- 0.00\n"
     ]
    }
   ],
   "source": [
    "print('R2 train: %.2f +/- %.2f' % (np.mean(train_score),np.std(train_score)))"
   ]
  },
  {
   "cell_type": "code",
   "execution_count": 156,
   "id": "323e641d-1aa4-46ba-954c-db613bab46e6",
   "metadata": {},
   "outputs": [
    {
     "name": "stdout",
     "output_type": "stream",
     "text": [
      "R2 test: 1.00 +/- 0.00\n"
     ]
    }
   ],
   "source": [
    "print('R2 test: %.2f +/- %.2f' % (np.mean(test_score),np.std(test_score)))"
   ]
  },
  {
   "cell_type": "code",
   "execution_count": 157,
   "id": "186bffe9-2f05-4e94-bf05-af0b0bda6e2c",
   "metadata": {},
   "outputs": [],
   "source": [
    "from yellowbrick.regressor import ResidualsPlot"
   ]
  },
  {
   "cell_type": "code",
   "execution_count": 159,
   "id": "2c1f0f5d-aadc-4dc1-a50e-a7447553e57b",
   "metadata": {},
   "outputs": [
    {
     "data": {
      "image/png": "[encoded data removed]",
      "text/plain": [
       "<Figure size 576x396 with 2 Axes>"
      ]
     },
     "metadata": {},
     "output_type": "display_data"
    },
    {
     "data": {
      "text/plain": [
       "<AxesSubplot:title={'center':'Residuals for LinearRegression Model'}, xlabel='Predicted Value', ylabel='Residuals'>"
      ]
     },
     "execution_count": 159,
     "metadata": {},
     "output_type": "execute_result"
    }
   ],
   "source": [
    "model = LinearRegression()\n",
    "visualizer = ResidualsPlot(model, hist=True, qqplot=False)\n",
    "\n",
    "visualizer.fit(x_vtrain_train, y_vtrain_train)  \n",
    "visualizer.score(x_vtrain_test, y_vtrain_test)  \n",
    "visualizer.show()"
   ]
  },
  {
   "cell_type": "code",
   "execution_count": null,
   "id": "f983afa6-3868-4b6e-a687-a97b156cc757",
   "metadata": {},
   "outputs": [],
   "source": [
    "from sklearn.linear_model import LogisticRegression"
   ]
  },
  {
   "cell_type": "code",
   "execution_count": 161,
   "id": "187142bb-b83a-4c2f-a498-bd7c158a6214",
   "metadata": {},
   "outputs": [],
   "source": [
    "from sklearn.decomposition import PCA"
   ]
  },
  {
   "cell_type": "code",
   "execution_count": 162,
   "id": "120dc994-70c5-4f7e-a95b-0dc979e8d007",
   "metadata": {},
   "outputs": [
    {
     "data": {
      "text/plain": [
       "PCA(n_components=0.95)"
      ]
     },
     "execution_count": 162,
     "metadata": {},
     "output_type": "execute_result"
    }
   ],
   "source": [
    "pca = PCA(0.95)\n",
    "X_pca = pca.fit(normalized_x_trained, x_vtrain_train)\n",
    "X_pca"
   ]
  },
  {
   "cell_type": "code",
   "execution_count": 163,
   "id": "e342e5dd-706e-4b17-9ba8-57428c037897",
   "metadata": {},
   "outputs": [
    {
     "data": {
      "text/plain": [
       "array([0.13585882, 0.13326056, 0.1322444 , 0.13130782, 0.08885942,\n",
       "       0.05432666, 0.05353696, 0.048322  , 0.04546629, 0.04509052,\n",
       "       0.04454916, 0.04395824])"
      ]
     },
     "execution_count": 163,
     "metadata": {},
     "output_type": "execute_result"
    }
   ],
   "source": [
    "pca.explained_variance_ratio_"
   ]
  },
  {
   "cell_type": "code",
   "execution_count": 164,
   "id": "8fe5e012-6c04-47ad-81af-7623e30d15f9",
   "metadata": {},
   "outputs": [
    {
     "data": {
      "text/plain": [
       "<function matplotlib.pyplot.show(close=None, block=None)>"
      ]
     },
     "execution_count": 164,
     "metadata": {},
     "output_type": "execute_result"
    },
    {
     "data": {
      "image/png": "[encoded data removed]",
      "text/plain": [
       "<Figure size 576x396 with 1 Axes>"
      ]
     },
     "metadata": {},
     "output_type": "display_data"
    }
   ],
   "source": [
    "#Get feature importance variables\n",
    "\n",
    "features = df.columns\n",
    "importances = X_pca.explained_variance_ratio_\n",
    "indices = np.argsort(importances)[-9:]\n",
    "plt.title('Feature Importances')\n",
    "plt.barh(range(len(indices)), importances[indices], color = \"b\", align = \"center\")\n",
    "plt.yticks(range(len(indices)), [features[i] for i in indices])\n",
    "plt.xlabel(\"Realtive importance\")\n",
    "plt.show"
   ]
  },
  {
   "cell_type": "code",
   "execution_count": 165,
   "id": "1a5bac21-a154-49e8-a46f-277183bf6a3e",
   "metadata": {},
   "outputs": [],
   "source": [
    "from sklearn.linear_model import LinearRegression"
   ]
  },
  {
   "cell_type": "code",
   "execution_count": 166,
   "id": "ef05bb3e-4886-4a75-b10a-03fa35ba1562",
   "metadata": {},
   "outputs": [
    {
     "data": {
      "text/html": [
       "<div><div id=5385cbbb-ccc2-46c1-ba5b-dfe07c03fbd0 style=\"display:none; background-color:#9D6CFF; color:white; width:200px; height:30px; padding-left:5px; border-radius:4px; flex-direction:row; justify-content:space-around; align-items:center;\" onmouseover=\"this.style.backgroundColor='#BA9BF8'\" onmouseout=\"this.style.backgroundColor='#9D6CFF'\" onclick=\"window.commands?.execute('create-mitosheet-from-dataframe-output');\">See Full Dataframe in Mito</div> <script> if (window.commands.hasCommand('create-mitosheet-from-dataframe-output')) document.getElementById('5385cbbb-ccc2-46c1-ba5b-dfe07c03fbd0').style.display = 'flex' </script> <table border=\"1\" class=\"dataframe\">\n",
       "  <thead>\n",
       "    <tr style=\"text-align: right;\">\n",
       "      <th></th>\n",
       "      <th>squareMeters</th>\n",
       "      <th>numberOfRooms</th>\n",
       "      <th>hasYard</th>\n",
       "      <th>hasPool</th>\n",
       "      <th>floors</th>\n",
       "      <th>cityPartRange</th>\n",
       "      <th>numPrevOwners</th>\n",
       "      <th>made</th>\n",
       "      <th>isNewBuilt</th>\n",
       "      <th>hasStormProtector</th>\n",
       "      <th>basement</th>\n",
       "      <th>attic</th>\n",
       "      <th>garage</th>\n",
       "      <th>hasStorageRoom</th>\n",
       "      <th>hasGuestRoom</th>\n",
       "      <th>price</th>\n",
       "    </tr>\n",
       "  </thead>\n",
       "  <tbody>\n",
       "    <tr>\n",
       "      <th>0</th>\n",
       "      <td>75523</td>\n",
       "      <td>3</td>\n",
       "      <td>0</td>\n",
       "      <td>1</td>\n",
       "      <td>63</td>\n",
       "      <td>3</td>\n",
       "      <td>8</td>\n",
       "      <td>2005</td>\n",
       "      <td>0</td>\n",
       "      <td>1</td>\n",
       "      <td>4313</td>\n",
       "      <td>9005</td>\n",
       "      <td>956</td>\n",
       "      <td>0</td>\n",
       "      <td>7</td>\n",
       "      <td>7559081.5</td>\n",
       "    </tr>\n",
       "    <tr>\n",
       "      <th>1</th>\n",
       "      <td>80771</td>\n",
       "      <td>39</td>\n",
       "      <td>1</td>\n",
       "      <td>1</td>\n",
       "      <td>98</td>\n",
       "      <td>8</td>\n",
       "      <td>6</td>\n",
       "      <td>2015</td>\n",
       "      <td>1</td>\n",
       "      <td>0</td>\n",
       "      <td>3653</td>\n",
       "      <td>2436</td>\n",
       "      <td>128</td>\n",
       "      <td>1</td>\n",
       "      <td>2</td>\n",
       "      <td>8085989.5</td>\n",
       "    </tr>\n",
       "    <tr>\n",
       "      <th>2</th>\n",
       "      <td>55712</td>\n",
       "      <td>58</td>\n",
       "      <td>0</td>\n",
       "      <td>1</td>\n",
       "      <td>19</td>\n",
       "      <td>6</td>\n",
       "      <td>8</td>\n",
       "      <td>2021</td>\n",
       "      <td>0</td>\n",
       "      <td>0</td>\n",
       "      <td>2937</td>\n",
       "      <td>8852</td>\n",
       "      <td>135</td>\n",
       "      <td>1</td>\n",
       "      <td>9</td>\n",
       "      <td>5574642.1</td>\n",
       "    </tr>\n",
       "    <tr>\n",
       "      <th>3</th>\n",
       "      <td>32316</td>\n",
       "      <td>47</td>\n",
       "      <td>0</td>\n",
       "      <td>0</td>\n",
       "      <td>6</td>\n",
       "      <td>10</td>\n",
       "      <td>4</td>\n",
       "      <td>2012</td>\n",
       "      <td>0</td>\n",
       "      <td>1</td>\n",
       "      <td>659</td>\n",
       "      <td>7141</td>\n",
       "      <td>359</td>\n",
       "      <td>0</td>\n",
       "      <td>3</td>\n",
       "      <td>3232561.2</td>\n",
       "    </tr>\n",
       "    <tr>\n",
       "      <th>4</th>\n",
       "      <td>70429</td>\n",
       "      <td>19</td>\n",
       "      <td>1</td>\n",
       "      <td>1</td>\n",
       "      <td>90</td>\n",
       "      <td>3</td>\n",
       "      <td>7</td>\n",
       "      <td>1990</td>\n",
       "      <td>1</td>\n",
       "      <td>0</td>\n",
       "      <td>8435</td>\n",
       "      <td>2429</td>\n",
       "      <td>292</td>\n",
       "      <td>1</td>\n",
       "      <td>4</td>\n",
       "      <td>7055052.0</td>\n",
       "    </tr>\n",
       "    <tr>\n",
       "      <th>...</th>\n",
       "      <td>...</td>\n",
       "      <td>...</td>\n",
       "      <td>...</td>\n",
       "      <td>...</td>\n",
       "      <td>...</td>\n",
       "      <td>...</td>\n",
       "      <td>...</td>\n",
       "      <td>...</td>\n",
       "      <td>...</td>\n",
       "      <td>...</td>\n",
       "      <td>...</td>\n",
       "      <td>...</td>\n",
       "      <td>...</td>\n",
       "      <td>...</td>\n",
       "      <td>...</td>\n",
       "      <td>...</td>\n",
       "    </tr>\n",
       "    <tr>\n",
       "      <th>9995</th>\n",
       "      <td>1726</td>\n",
       "      <td>89</td>\n",
       "      <td>0</td>\n",
       "      <td>1</td>\n",
       "      <td>5</td>\n",
       "      <td>7</td>\n",
       "      <td>6</td>\n",
       "      <td>2009</td>\n",
       "      <td>0</td>\n",
       "      <td>1</td>\n",
       "      <td>9311</td>\n",
       "      <td>1698</td>\n",
       "      <td>218</td>\n",
       "      <td>0</td>\n",
       "      <td>4</td>\n",
       "      <td>176425.9</td>\n",
       "    </tr>\n",
       "    <tr>\n",
       "      <th>9996</th>\n",
       "      <td>44403</td>\n",
       "      <td>29</td>\n",
       "      <td>1</td>\n",
       "      <td>1</td>\n",
       "      <td>12</td>\n",
       "      <td>9</td>\n",
       "      <td>4</td>\n",
       "      <td>1990</td>\n",
       "      <td>0</td>\n",
       "      <td>1</td>\n",
       "      <td>9061</td>\n",
       "      <td>1742</td>\n",
       "      <td>230</td>\n",
       "      <td>0</td>\n",
       "      <td>0</td>\n",
       "      <td>4448474.0</td>\n",
       "    </tr>\n",
       "    <tr>\n",
       "      <th>9997</th>\n",
       "      <td>83841</td>\n",
       "      <td>3</td>\n",
       "      <td>0</td>\n",
       "      <td>0</td>\n",
       "      <td>69</td>\n",
       "      <td>10</td>\n",
       "      <td>10</td>\n",
       "      <td>2005</td>\n",
       "      <td>1</td>\n",
       "      <td>1</td>\n",
       "      <td>8304</td>\n",
       "      <td>7730</td>\n",
       "      <td>345</td>\n",
       "      <td>1</td>\n",
       "      <td>9</td>\n",
       "      <td>8390030.5</td>\n",
       "    </tr>\n",
       "    <tr>\n",
       "      <th>9998</th>\n",
       "      <td>59036</td>\n",
       "      <td>70</td>\n",
       "      <td>0</td>\n",
       "      <td>0</td>\n",
       "      <td>96</td>\n",
       "      <td>1</td>\n",
       "      <td>3</td>\n",
       "      <td>2010</td>\n",
       "      <td>0</td>\n",
       "      <td>1</td>\n",
       "      <td>2590</td>\n",
       "      <td>6174</td>\n",
       "      <td>339</td>\n",
       "      <td>1</td>\n",
       "      <td>4</td>\n",
       "      <td>5905107.0</td>\n",
       "    </tr>\n",
       "    <tr>\n",
       "      <th>9999</th>\n",
       "      <td>1440</td>\n",
       "      <td>84</td>\n",
       "      <td>0</td>\n",
       "      <td>0</td>\n",
       "      <td>49</td>\n",
       "      <td>6</td>\n",
       "      <td>10</td>\n",
       "      <td>1994</td>\n",
       "      <td>1</td>\n",
       "      <td>0</td>\n",
       "      <td>8485</td>\n",
       "      <td>2024</td>\n",
       "      <td>278</td>\n",
       "      <td>1</td>\n",
       "      <td>6</td>\n",
       "      <td>146708.4</td>\n",
       "    </tr>\n",
       "  </tbody>\n",
       "</table></div>"
      ],
      "text/plain": [
       "      squareMeters  numberOfRooms  hasYard  hasPool  floors  cityPartRange  \\\n",
       "0            75523              3        0        1      63              3   \n",
       "1            80771             39        1        1      98              8   \n",
       "2            55712             58        0        1      19              6   \n",
       "3            32316             47        0        0       6             10   \n",
       "4            70429             19        1        1      90              3   \n",
       "...            ...            ...      ...      ...     ...            ...   \n",
       "9995          1726             89        0        1       5              7   \n",
       "9996         44403             29        1        1      12              9   \n",
       "9997         83841              3        0        0      69             10   \n",
       "9998         59036             70        0        0      96              1   \n",
       "9999          1440             84        0        0      49              6   \n",
       "\n",
       "      numPrevOwners  made  isNewBuilt  hasStormProtector  basement  attic  \\\n",
       "0                 8  2005           0                  1      4313   9005   \n",
       "1                 6  2015           1                  0      3653   2436   \n",
       "2                 8  2021           0                  0      2937   8852   \n",
       "3                 4  2012           0                  1       659   7141   \n",
       "4                 7  1990           1                  0      8435   2429   \n",
       "...             ...   ...         ...                ...       ...    ...   \n",
       "9995              6  2009           0                  1      9311   1698   \n",
       "9996              4  1990           0                  1      9061   1742   \n",
       "9997             10  2005           1                  1      8304   7730   \n",
       "9998              3  2010           0                  1      2590   6174   \n",
       "9999             10  1994           1                  0      8485   2024   \n",
       "\n",
       "      garage  hasStorageRoom  hasGuestRoom      price  \n",
       "0        956               0             7  7559081.5  \n",
       "1        128               1             2  8085989.5  \n",
       "2        135               1             9  5574642.1  \n",
       "3        359               0             3  3232561.2  \n",
       "4        292               1             4  7055052.0  \n",
       "...      ...             ...           ...        ...  \n",
       "9995     218               0             4   176425.9  \n",
       "9996     230               0             0  4448474.0  \n",
       "9997     345               1             9  8390030.5  \n",
       "9998     339               1             4  5905107.0  \n",
       "9999     278               1             6   146708.4  \n",
       "\n",
       "[10000 rows x 16 columns]"
      ]
     },
     "execution_count": 166,
     "metadata": {},
     "output_type": "execute_result"
    }
   ],
   "source": [
    "new_df = df.drop(columns = ['cityCode'])\n",
    "new_df"
   ]
  },
  {
   "cell_type": "code",
   "execution_count": 174,
   "id": "837ce84c-f534-4f13-b0e5-b34f17cf3ff6",
   "metadata": {},
   "outputs": [],
   "source": [
    "model = LinearRegression()\n",
    "linReg = model.fit(normalized_x_trained, y_train)"
   ]
  },
  {
   "cell_type": "code",
   "execution_count": 180,
   "id": "21620add-d728-41d8-a48d-6086fd085475",
   "metadata": {},
   "outputs": [
    {
     "data": {
      "text/plain": [
       "1.0"
      ]
     },
     "execution_count": 180,
     "metadata": {},
     "output_type": "execute_result"
    }
   ],
   "source": [
    "linReg.score(normalized_x_trained, y_train)"
   ]
  },
  {
   "cell_type": "code",
   "execution_count": 196,
   "id": "90e0bc14-7d80-47b4-87a7-02cfc979dfcc",
   "metadata": {},
   "outputs": [],
   "source": [
    "y_predict = linReg.predict(x_vtrain_test)"
   ]
  },
  {
   "cell_type": "code",
   "execution_count": 197,
   "id": "3ce7fd4e-9f9e-4fcd-a42e-175d9a26a79b",
   "metadata": {},
   "outputs": [
    {
     "ename": "ValueError",
     "evalue": "Expected 2D array, got 1D array instead:\narray=[7073600.1 4132922.1 9843291.1 ...  971236.8 9072944.6 2184961.9].\nReshape your data either using array.reshape(-1, 1) if your data has a single feature or array.reshape(1, -1) if it contains a single sample.",
     "output_type": "error",
     "traceback": [
      "\u001b[1;31m---------------------------------------------------------------------------\u001b[0m",
      "\u001b[1;31mValueError\u001b[0m                                Traceback (most recent call last)",
      "Input \u001b[1;32mIn [197]\u001b[0m, in \u001b[0;36m<cell line: 1>\u001b[1;34m()\u001b[0m\n\u001b[1;32m----> 1\u001b[0m \u001b[43mlinReg\u001b[49m\u001b[38;5;241;43m.\u001b[39;49m\u001b[43mscore\u001b[49m\u001b[43m(\u001b[49m\u001b[43my_vtrain_test\u001b[49m\u001b[43m,\u001b[49m\u001b[43m \u001b[49m\u001b[43my_predict\u001b[49m\u001b[43m)\u001b[49m\n",
      "File \u001b[1;32m~\\Desktop\\Francis\\ciscoenv\\lib\\site-packages\\sklearn\\base.py:705\u001b[0m, in \u001b[0;36mRegressorMixin.score\u001b[1;34m(self, X, y, sample_weight)\u001b[0m\n\u001b[0;32m    663\u001b[0m \u001b[38;5;124;03m\"\"\"Return the coefficient of determination of the prediction.\u001b[39;00m\n\u001b[0;32m    664\u001b[0m \n\u001b[0;32m    665\u001b[0m \u001b[38;5;124;03mThe coefficient of determination :math:`R^2` is defined as\u001b[39;00m\n\u001b[1;32m   (...)\u001b[0m\n\u001b[0;32m    700\u001b[0m \u001b[38;5;124;03m:class:`~sklearn.multioutput.MultiOutputRegressor`).\u001b[39;00m\n\u001b[0;32m    701\u001b[0m \u001b[38;5;124;03m\"\"\"\u001b[39;00m\n\u001b[0;32m    703\u001b[0m \u001b[38;5;28;01mfrom\u001b[39;00m \u001b[38;5;21;01m.\u001b[39;00m\u001b[38;5;21;01mmetrics\u001b[39;00m \u001b[38;5;28;01mimport\u001b[39;00m r2_score\n\u001b[1;32m--> 705\u001b[0m y_pred \u001b[38;5;241m=\u001b[39m \u001b[38;5;28;43mself\u001b[39;49m\u001b[38;5;241;43m.\u001b[39;49m\u001b[43mpredict\u001b[49m\u001b[43m(\u001b[49m\u001b[43mX\u001b[49m\u001b[43m)\u001b[49m\n\u001b[0;32m    706\u001b[0m \u001b[38;5;28;01mreturn\u001b[39;00m r2_score(y, y_pred, sample_weight\u001b[38;5;241m=\u001b[39msample_weight)\n",
      "File \u001b[1;32m~\\Desktop\\Francis\\ciscoenv\\lib\\site-packages\\sklearn\\linear_model\\_base.py:362\u001b[0m, in \u001b[0;36mLinearModel.predict\u001b[1;34m(self, X)\u001b[0m\n\u001b[0;32m    348\u001b[0m \u001b[38;5;28;01mdef\u001b[39;00m \u001b[38;5;21mpredict\u001b[39m(\u001b[38;5;28mself\u001b[39m, X):\n\u001b[0;32m    349\u001b[0m     \u001b[38;5;124;03m\"\"\"\u001b[39;00m\n\u001b[0;32m    350\u001b[0m \u001b[38;5;124;03m    Predict using the linear model.\u001b[39;00m\n\u001b[0;32m    351\u001b[0m \n\u001b[1;32m   (...)\u001b[0m\n\u001b[0;32m    360\u001b[0m \u001b[38;5;124;03m        Returns predicted values.\u001b[39;00m\n\u001b[0;32m    361\u001b[0m \u001b[38;5;124;03m    \"\"\"\u001b[39;00m\n\u001b[1;32m--> 362\u001b[0m     \u001b[38;5;28;01mreturn\u001b[39;00m \u001b[38;5;28;43mself\u001b[39;49m\u001b[38;5;241;43m.\u001b[39;49m\u001b[43m_decision_function\u001b[49m\u001b[43m(\u001b[49m\u001b[43mX\u001b[49m\u001b[43m)\u001b[49m\n",
      "File \u001b[1;32m~\\Desktop\\Francis\\ciscoenv\\lib\\site-packages\\sklearn\\linear_model\\_base.py:345\u001b[0m, in \u001b[0;36mLinearModel._decision_function\u001b[1;34m(self, X)\u001b[0m\n\u001b[0;32m    342\u001b[0m \u001b[38;5;28;01mdef\u001b[39;00m \u001b[38;5;21m_decision_function\u001b[39m(\u001b[38;5;28mself\u001b[39m, X):\n\u001b[0;32m    343\u001b[0m     check_is_fitted(\u001b[38;5;28mself\u001b[39m)\n\u001b[1;32m--> 345\u001b[0m     X \u001b[38;5;241m=\u001b[39m \u001b[38;5;28;43mself\u001b[39;49m\u001b[38;5;241;43m.\u001b[39;49m\u001b[43m_validate_data\u001b[49m\u001b[43m(\u001b[49m\u001b[43mX\u001b[49m\u001b[43m,\u001b[49m\u001b[43m \u001b[49m\u001b[43maccept_sparse\u001b[49m\u001b[38;5;241;43m=\u001b[39;49m\u001b[43m[\u001b[49m\u001b[38;5;124;43m\"\u001b[39;49m\u001b[38;5;124;43mcsr\u001b[39;49m\u001b[38;5;124;43m\"\u001b[39;49m\u001b[43m,\u001b[49m\u001b[43m \u001b[49m\u001b[38;5;124;43m\"\u001b[39;49m\u001b[38;5;124;43mcsc\u001b[39;49m\u001b[38;5;124;43m\"\u001b[39;49m\u001b[43m,\u001b[49m\u001b[43m \u001b[49m\u001b[38;5;124;43m\"\u001b[39;49m\u001b[38;5;124;43mcoo\u001b[39;49m\u001b[38;5;124;43m\"\u001b[39;49m\u001b[43m]\u001b[49m\u001b[43m,\u001b[49m\u001b[43m \u001b[49m\u001b[43mreset\u001b[49m\u001b[38;5;241;43m=\u001b[39;49m\u001b[38;5;28;43;01mFalse\u001b[39;49;00m\u001b[43m)\u001b[49m\n\u001b[0;32m    346\u001b[0m     \u001b[38;5;28;01mreturn\u001b[39;00m safe_sparse_dot(X, \u001b[38;5;28mself\u001b[39m\u001b[38;5;241m.\u001b[39mcoef_\u001b[38;5;241m.\u001b[39mT, dense_output\u001b[38;5;241m=\u001b[39m\u001b[38;5;28;01mTrue\u001b[39;00m) \u001b[38;5;241m+\u001b[39m \u001b[38;5;28mself\u001b[39m\u001b[38;5;241m.\u001b[39mintercept_\n",
      "File \u001b[1;32m~\\Desktop\\Francis\\ciscoenv\\lib\\site-packages\\sklearn\\base.py:566\u001b[0m, in \u001b[0;36mBaseEstimator._validate_data\u001b[1;34m(self, X, y, reset, validate_separately, **check_params)\u001b[0m\n\u001b[0;32m    564\u001b[0m     \u001b[38;5;28;01mraise\u001b[39;00m \u001b[38;5;167;01mValueError\u001b[39;00m(\u001b[38;5;124m\"\u001b[39m\u001b[38;5;124mValidation should be done on X, y or both.\u001b[39m\u001b[38;5;124m\"\u001b[39m)\n\u001b[0;32m    565\u001b[0m \u001b[38;5;28;01melif\u001b[39;00m \u001b[38;5;129;01mnot\u001b[39;00m no_val_X \u001b[38;5;129;01mand\u001b[39;00m no_val_y:\n\u001b[1;32m--> 566\u001b[0m     X \u001b[38;5;241m=\u001b[39m check_array(X, \u001b[38;5;241m*\u001b[39m\u001b[38;5;241m*\u001b[39mcheck_params)\n\u001b[0;32m    567\u001b[0m     out \u001b[38;5;241m=\u001b[39m X\n\u001b[0;32m    568\u001b[0m \u001b[38;5;28;01melif\u001b[39;00m no_val_X \u001b[38;5;129;01mand\u001b[39;00m \u001b[38;5;129;01mnot\u001b[39;00m no_val_y:\n",
      "File \u001b[1;32m~\\Desktop\\Francis\\ciscoenv\\lib\\site-packages\\sklearn\\utils\\validation.py:769\u001b[0m, in \u001b[0;36mcheck_array\u001b[1;34m(array, accept_sparse, accept_large_sparse, dtype, order, copy, force_all_finite, ensure_2d, allow_nd, ensure_min_samples, ensure_min_features, estimator)\u001b[0m\n\u001b[0;32m    767\u001b[0m     \u001b[38;5;66;03m# If input is 1D raise error\u001b[39;00m\n\u001b[0;32m    768\u001b[0m     \u001b[38;5;28;01mif\u001b[39;00m array\u001b[38;5;241m.\u001b[39mndim \u001b[38;5;241m==\u001b[39m \u001b[38;5;241m1\u001b[39m:\n\u001b[1;32m--> 769\u001b[0m         \u001b[38;5;28;01mraise\u001b[39;00m \u001b[38;5;167;01mValueError\u001b[39;00m(\n\u001b[0;32m    770\u001b[0m             \u001b[38;5;124m\"\u001b[39m\u001b[38;5;124mExpected 2D array, got 1D array instead:\u001b[39m\u001b[38;5;130;01m\\n\u001b[39;00m\u001b[38;5;124marray=\u001b[39m\u001b[38;5;132;01m{}\u001b[39;00m\u001b[38;5;124m.\u001b[39m\u001b[38;5;130;01m\\n\u001b[39;00m\u001b[38;5;124m\"\u001b[39m\n\u001b[0;32m    771\u001b[0m             \u001b[38;5;124m\"\u001b[39m\u001b[38;5;124mReshape your data either using array.reshape(-1, 1) if \u001b[39m\u001b[38;5;124m\"\u001b[39m\n\u001b[0;32m    772\u001b[0m             \u001b[38;5;124m\"\u001b[39m\u001b[38;5;124myour data has a single feature or array.reshape(1, -1) \u001b[39m\u001b[38;5;124m\"\u001b[39m\n\u001b[0;32m    773\u001b[0m             \u001b[38;5;124m\"\u001b[39m\u001b[38;5;124mif it contains a single sample.\u001b[39m\u001b[38;5;124m\"\u001b[39m\u001b[38;5;241m.\u001b[39mformat(array)\n\u001b[0;32m    774\u001b[0m         )\n\u001b[0;32m    776\u001b[0m \u001b[38;5;66;03m# make sure we actually converted to numeric:\u001b[39;00m\n\u001b[0;32m    777\u001b[0m \u001b[38;5;28;01mif\u001b[39;00m dtype_numeric \u001b[38;5;129;01mand\u001b[39;00m array\u001b[38;5;241m.\u001b[39mdtype\u001b[38;5;241m.\u001b[39mkind \u001b[38;5;129;01min\u001b[39;00m \u001b[38;5;124m\"\u001b[39m\u001b[38;5;124mOUSV\u001b[39m\u001b[38;5;124m\"\u001b[39m:\n",
      "\u001b[1;31mValueError\u001b[0m: Expected 2D array, got 1D array instead:\narray=[7073600.1 4132922.1 9843291.1 ...  971236.8 9072944.6 2184961.9].\nReshape your data either using array.reshape(-1, 1) if your data has a single feature or array.reshape(1, -1) if it contains a single sample."
     ]
    }
   ],
   "source": [
    "linReg.score(y_vtrain_test, y_predict)"
   ]
  },
  {
   "cell_type": "code",
   "execution_count": null,
   "id": "84f52bef-92eb-4ca1-8c06-a40a23c822c4",
   "metadata": {},
   "outputs": [],
   "source": []
  },
  {
   "cell_type": "code",
   "execution_count": null,
   "id": "a9846a97-068b-4a34-807f-b4e7847a2b2b",
   "metadata": {},
   "outputs": [],
   "source": []
  }
 ],
 "metadata": {
  "kernelspec": {
   "display_name": "Python 3 (ipykernel)",
   "language": "python",
   "name": "python3"
  },
  "language_info": {
   "codemirror_mode": {
    "name": "ipython",
    "version": 3
   },
   "file_extension": ".py",
   "mimetype": "text/x-python",
   "name": "python",
   "nbconvert_exporter": "python",
   "pygments_lexer": "ipython3",
   "version": "3.10.4"
  }
 },
 "nbformat": 4,
 "nbformat_minor": 5
}
